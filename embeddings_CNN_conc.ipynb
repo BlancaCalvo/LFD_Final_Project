{
 "cells": [
  {
   "cell_type": "markdown",
   "metadata": {
    "colab_type": "text",
    "id": "13ymSU11WvDa"
   },
   "source": [
    "## Import"
   ]
  },
  {
   "cell_type": "code",
   "execution_count": 1,
   "metadata": {
    "colab": {},
    "colab_type": "code",
    "id": "z2fl8SDXXT00"
   },
   "outputs": [],
   "source": [
    "# this is for google colab\n",
    "#from google.colab import drive\n",
    "#drive.mount('/content/drive')"
   ]
  },
  {
   "cell_type": "code",
   "execution_count": 2,
   "metadata": {
    "colab": {},
    "colab_type": "code",
    "id": "DqaHYo_UWvDc"
   },
   "outputs": [
    {
     "name": "stderr",
     "output_type": "stream",
     "text": [
      "Using TensorFlow backend.\n"
     ]
    }
   ],
   "source": [
    "import os \n",
    "\n",
    "# tool_path = \"/content/drive/Shared drives/Shared Task SentiMix/tools\"\n",
    "\n",
    "# import tools\n",
    "\n",
    "# import tools.baseline as bt\n",
    "# import tools.data as data_tools\n",
    "import numpy as np\n",
    "import pandas as pd\n",
    "\n",
    "from sklearn.metrics import classification_report\n",
    "from gensim.models import Word2Vec, KeyedVectors\n",
    "from sklearn.preprocessing import LabelBinarizer\n",
    "from sklearn.metrics import accuracy_score\n",
    "from sklearn.model_selection import train_test_split, GridSearchCV\n",
    "\n",
    "import keras\n",
    "from keras.wrappers.scikit_learn import KerasClassifier\n",
    "from keras.models import Sequential\n",
    "from keras.layers.core import Dense, Activation\n",
    "from keras.optimizers import SGD\n",
    "from keras.preprocessing.sequence import pad_sequences\n",
    "from keras.preprocessing.text import Tokenizer\n",
    "from keras.layers import Embedding, Bidirectional, Dropout, Conv1D, GlobalMaxPool1D\n",
    "from keras.utils import to_categorical\n",
    "from keras.models import Model, Input\n",
    "from keras.optimizers import Adam\n",
    "from collections import defaultdict\n",
    "import json\n",
    "\n",
    "from keras.layers import *\n"
   ]
  },
  {
   "cell_type": "code",
   "execution_count": 3,
   "metadata": {},
   "outputs": [],
   "source": [
    "def read_corpus(corpus_file):\n",
    "    \"\"\"read input document and return the textual articles\n",
    "    and either the bias or hyperpartisan label\"\"\"\n",
    "\n",
    "    with open(corpus_file) as json_file:\n",
    "        data = json.load(json_file)\n",
    "\n",
    "    data = pd.DataFrame(data)\n",
    "    documents = data.text\n",
    "    labels_bin = data.hyperp\n",
    "    labels_mult = data.bias\n",
    "    titles = data.title\n",
    "\n",
    "\n",
    "    return documents, labels_bin, labels_mult, titles"
   ]
  },
  {
   "cell_type": "markdown",
   "metadata": {},
   "source": [
    "## Import Data"
   ]
  },
  {
   "cell_type": "code",
   "execution_count": 4,
   "metadata": {},
   "outputs": [],
   "source": [
    "X, Y_bin, Y_mult, titles = read_corpus('tokenized_with_NUM.json')"
   ]
  },
  {
   "cell_type": "code",
   "execution_count": 5,
   "metadata": {},
   "outputs": [],
   "source": [
    "indices = np.arange(len(X))\n",
    "train_idx, test_idx = train_test_split(indices, test_size = 0.2)\n",
    "\n",
    "Xtrain = X[train_idx]\n",
    "Xtest = X[test_idx]\n",
    "\n",
    "Ytrain_bin = Y_bin[train_idx]\n",
    "Ytest_bin = Y_bin[test_idx]\n",
    "\n",
    "Ytrain_mult = Y_mult[train_idx]\n",
    "Ytest_mult = Y_mult[test_idx]\n",
    "\n",
    "titles_train = titles[train_idx]\n",
    "titles_test = titles[test_idx]"
   ]
  },
  {
   "cell_type": "code",
   "execution_count": 6,
   "metadata": {
    "colab": {},
    "colab_type": "code",
    "id": "HuAJJFJmWvDm"
   },
   "outputs": [],
   "source": [
    "toki = Tokenizer()\n",
    "toki.fit_on_texts(Xtrain)\n",
    "\n",
    "title_tok = Tokenizer()\n",
    "title_tok.fit_on_texts(titles_train)"
   ]
  },
  {
   "cell_type": "code",
   "execution_count": 7,
   "metadata": {
    "colab": {},
    "colab_type": "code",
    "id": "A4mEdrNxWvDq"
   },
   "outputs": [],
   "source": [
    "Xtrain_seq = toki.texts_to_sequences(Xtrain)\n",
    "Xtest_seq = toki.texts_to_sequences(Xtest)\n",
    "\n",
    "titles_train = title_tok.texts_to_sequences(titles_train)\n",
    "titles_test = title_tok.texts_to_sequences(titles_test)"
   ]
  },
  {
   "cell_type": "code",
   "execution_count": 8,
   "metadata": {},
   "outputs": [],
   "source": [
    "t_vocab = len(title_tok.word_index)"
   ]
  },
  {
   "cell_type": "code",
   "execution_count": 9,
   "metadata": {
    "colab": {},
    "colab_type": "code",
    "id": "Rvn7NZ_iWvDy"
   },
   "outputs": [],
   "source": [
    "word2index = toki.word_index\n",
    "word2index['PAD'] = 0"
   ]
  },
  {
   "cell_type": "code",
   "execution_count": 10,
   "metadata": {
    "colab": {},
    "colab_type": "code",
    "id": "Mb3fIeqnWvD2"
   },
   "outputs": [
    {
     "name": "stdout",
     "output_type": "stream",
     "text": [
      "PAD\n"
     ]
    }
   ],
   "source": [
    "index2word = toki.index_word\n",
    "index2word[0] = 'PAD'\n",
    "print(index2word[0])"
   ]
  },
  {
   "cell_type": "code",
   "execution_count": 11,
   "metadata": {
    "colab": {},
    "colab_type": "code",
    "id": "bQfOn7v3WvD5"
   },
   "outputs": [
    {
     "name": "stdout",
     "output_type": "stream",
     "text": [
      "3103 592.4747231584015\n"
     ]
    }
   ],
   "source": [
    "#get max length of words\n",
    "\n",
    "lens = [len(text) for text in Xtrain]\n",
    "\n",
    "max_article_len = max(lens)\n",
    "mean_article_len = np.mean(lens)\n",
    "print(max_article_len, mean_article_len)\n",
    "\n",
    "max_len = 1000"
   ]
  },
  {
   "cell_type": "code",
   "execution_count": 12,
   "metadata": {},
   "outputs": [
    {
     "name": "stdout",
     "output_type": "stream",
     "text": [
      "86\n"
     ]
    }
   ],
   "source": [
    "t_lens = [len(t) for t in titles_train]\n",
    "t_max = max(t_lens)\n",
    "print(t_max)"
   ]
  },
  {
   "cell_type": "code",
   "execution_count": 13,
   "metadata": {
    "colab": {},
    "colab_type": "code",
    "id": "MLSlD2KSWvD9"
   },
   "outputs": [],
   "source": [
    "#pre-pad the tweets with value 0\n",
    "# that is prepadding (Louis so you understand as well)\n",
    "Xtrain_pad = pad_sequences(Xtrain_seq, maxlen = max_len)\n",
    "Xtest_pad = pad_sequences(Xtest_seq, maxlen = max_len)\n",
    "\n",
    "t_train_pad = pad_sequences(titles_train, maxlen = t_max)\n",
    "t_test_pad = pad_sequences(titles_test, maxlen = t_max)"
   ]
  },
  {
   "cell_type": "markdown",
   "metadata": {},
   "source": [
    "### Labels"
   ]
  },
  {
   "cell_type": "code",
   "execution_count": 14,
   "metadata": {
    "colab": {},
    "colab_type": "code",
    "id": "_0EbZrlOWvEA"
   },
   "outputs": [
    {
     "data": {
      "text/plain": [
       "2463     True\n",
       "1273    False\n",
       "2468     True\n",
       "Name: hyperp, dtype: bool"
      ]
     },
     "execution_count": 14,
     "metadata": {},
     "output_type": "execute_result"
    }
   ],
   "source": [
    "Ytrain_bin[:3]"
   ]
  },
  {
   "cell_type": "code",
   "execution_count": 15,
   "metadata": {},
   "outputs": [],
   "source": [
    "Ytrain_bin = np.asarray([0. if l == False else 1. for l in Ytrain_bin])\n",
    "Ytest_bin = np.asarray([0. if l == False else 1. for l in Ytest_bin])"
   ]
  },
  {
   "cell_type": "code",
   "execution_count": 16,
   "metadata": {},
   "outputs": [],
   "source": [
    "# Ytrain_bin = to_categorical(Ytrain_bin)\n",
    "# Ytest_bin = to_categorical(Ytest_bin)"
   ]
  },
  {
   "cell_type": "code",
   "execution_count": 17,
   "metadata": {},
   "outputs": [
    {
     "data": {
      "text/plain": [
       "array([1., 1., 0.])"
      ]
     },
     "execution_count": 17,
     "metadata": {},
     "output_type": "execute_result"
    }
   ],
   "source": [
    "Ytest_bin[:3]"
   ]
  },
  {
   "cell_type": "code",
   "execution_count": 18,
   "metadata": {},
   "outputs": [],
   "source": [
    "mult_labels = set(Ytrain_mult)"
   ]
  },
  {
   "cell_type": "code",
   "execution_count": 19,
   "metadata": {
    "colab": {},
    "colab_type": "code",
    "id": "EwsprURhWvEE"
   },
   "outputs": [
    {
     "name": "stdout",
     "output_type": "stream",
     "text": [
      "defaultdict(None, {'left': 0, 'least': 1, 'left-center': 2, 'right': 3, 'right-center': 4})\n"
     ]
    }
   ],
   "source": [
    "label_dict = defaultdict()\n",
    "for i, l in enumerate(mult_labels):\n",
    "    label_dict[l] = i\n",
    "    \n",
    "print(label_dict)"
   ]
  },
  {
   "cell_type": "code",
   "execution_count": 20,
   "metadata": {
    "colab": {},
    "colab_type": "code",
    "id": "tYe73g-nWvEH"
   },
   "outputs": [],
   "source": [
    "Ytrain_mult = [label_dict[label] for label in Ytrain_mult]\n",
    "Ytest_mult = [label_dict[label] for label in Ytest_mult] \n",
    "\n",
    "# this is now a list of numbers"
   ]
  },
  {
   "cell_type": "code",
   "execution_count": 21,
   "metadata": {
    "colab": {},
    "colab_type": "code",
    "id": "FCX_ktnIWvEL"
   },
   "outputs": [],
   "source": [
    "no_cls = len(label_dict)\n",
    "\n",
    "Ytrain_mult_cat = np.asarray([to_categorical(label, num_classes = no_cls) for label in Ytrain_mult])\n",
    "Ytest_mult_cat = np.asarray([to_categorical(label, num_classes = no_cls) for label in Ytest_mult])"
   ]
  },
  {
   "cell_type": "code",
   "execution_count": 22,
   "metadata": {
    "colab": {},
    "colab_type": "code",
    "id": "cFn4e9NsWvES"
   },
   "outputs": [
    {
     "name": "stdout",
     "output_type": "stream",
     "text": [
      "Shape of data tensor: (2077, 1000)\n",
      "Shape of title tensor: (2077, 86)\n",
      "Shape of binary label tensor: (2077,)\n",
      "Shape of multilabel tensor: (2077, 5)\n"
     ]
    }
   ],
   "source": [
    "print('Shape of data tensor:', Xtrain_pad.shape)\n",
    "print('Shape of title tensor:', t_train_pad.shape)\n",
    "print('Shape of binary label tensor:', Ytrain_bin.shape)\n",
    "print('Shape of multilabel tensor:', Ytrain_mult_cat.shape)"
   ]
  },
  {
   "cell_type": "markdown",
   "metadata": {
    "colab_type": "text",
    "id": "2ny9O1CCWvEV"
   },
   "source": [
    "### Prepare the Embedding Layer"
   ]
  },
  {
   "cell_type": "code",
   "execution_count": 23,
   "metadata": {
    "colab": {},
    "colab_type": "code",
    "id": "3aMXU3exWvEW"
   },
   "outputs": [],
   "source": [
    "w2v_path = 'data/GoogleNews-vectors-negative300.bin'\n",
    "embeddings = Word2Vec.load('model_all.bin')\n",
    "embed_len = 100\n",
    "\n",
    "\n",
    "#embed_w2v = KeyedVectors.load_word2vec_format(w2v_path, binary=True)"
   ]
  },
  {
   "cell_type": "code",
   "execution_count": 24,
   "metadata": {
    "colab": {},
    "colab_type": "code",
    "id": "FV5k0356WvEZ"
   },
   "outputs": [],
   "source": [
    "#w = filter(lambda x: x in model.vocab, list(model.wv.vocab))\n",
    "#print model.most_similar(positive=w)\n",
    "\n",
    "def load_embeddings(model, i2w, embed_len):\n",
    "    \n",
    "    index2embed = dict()\n",
    "    w = filter(lambda x: x in word2index.keys(), list(embeddings.wv.vocab))\n",
    "\n",
    "    for i, w in i2w.items():\n",
    "        try:\n",
    "            embed = model[w]\n",
    "        except KeyError:\n",
    "            embed = np.zeros(embed_len)\n",
    "            #embed = embeddings.most_similar(positive=w)\n",
    "        index2embed[i] = embed\n",
    "    \n",
    "    return index2embed\n",
    "\n",
    "def load_w2v(model,i2w):\n",
    "    index2emb = dict()\n",
    "    \n",
    "    for i, w in i2w.items():\n",
    "        try:\n",
    "            embed = model[w]\n",
    "        except KeyError:\n",
    "            embed = model['UNK']\n",
    "            #embed = embeddings.most_similar(positive=w)\n",
    "        index2embed[i] = embed\n",
    "    \n",
    "    return index2embed\n"
   ]
  },
  {
   "cell_type": "code",
   "execution_count": 25,
   "metadata": {},
   "outputs": [
    {
     "name": "stderr",
     "output_type": "stream",
     "text": [
      "/usr/local/lib/python3.7/dist-packages/ipykernel_launcher.py:11: DeprecationWarning: Call to deprecated `__getitem__` (Method will be removed in 4.0.0, use self.wv.__getitem__() instead).\n",
      "  # This is added back by InteractiveShellApp.init_path()\n"
     ]
    }
   ],
   "source": [
    "#index2embed = loadw2v(embed_w2v, index2word)\n",
    "index2embed = load_embeddings(embeddings, index2word, embed_len)"
   ]
  },
  {
   "cell_type": "code",
   "execution_count": 26,
   "metadata": {
    "colab": {},
    "colab_type": "code",
    "id": "IRT4gSxcWvEc"
   },
   "outputs": [],
   "source": [
    "#compute embedding matrix\n",
    "\n",
    "embedding_matrix = np.zeros((len(word2index) + 1, embed_len))\n",
    "for word, i in word2index.items():\n",
    "    embedding_vector = index2embed[i]\n",
    "    if embedding_vector is not None:\n",
    "        # words not found in embedding index will be all-zeros.\n",
    "        embedding_matrix[i] = embedding_vector"
   ]
  },
  {
   "cell_type": "code",
   "execution_count": 27,
   "metadata": {
    "colab": {},
    "colab_type": "code",
    "id": "46WMiWTgWvEf"
   },
   "outputs": [],
   "source": [
    "#load embedding matrix into embedding layer\n",
    "\n",
    "\n",
    "embedding_layer = Embedding(len(word2index) + 1,\n",
    "                            embed_len,\n",
    "                            weights=[embedding_matrix],\n",
    "                            input_length=max_len,\n",
    "                            trainable=False)"
   ]
  },
  {
   "cell_type": "markdown",
   "metadata": {},
   "source": [
    "### Build title embeddings"
   ]
  },
  {
   "cell_type": "code",
   "execution_count": 28,
   "metadata": {},
   "outputs": [],
   "source": [
    "import gensim\n",
    "\n",
    "\n",
    "with open('tokenized_with_NUM.json') as json_file:\n",
    "    data = json.load(json_file)\n",
    "\n",
    "data = pd.DataFrame(data)\n",
    "#print(data.columns.values)\n",
    "\n",
    "X = data['title'].tolist()\n",
    "\n",
    "t_model = gensim.models.Word2Vec(X, size=100)\n",
    "#w2v = dict(zip(model.wv.index2word, model.wv.syn0))\n",
    "words = list(t_model.wv.vocab)\n",
    "vocab_length = len(words)\n",
    "t_model.save('model_titles.bin')"
   ]
  },
  {
   "cell_type": "code",
   "execution_count": 29,
   "metadata": {},
   "outputs": [
    {
     "name": "stderr",
     "output_type": "stream",
     "text": [
      "/usr/local/lib/python3.7/dist-packages/ipykernel_launcher.py:11: DeprecationWarning: Call to deprecated `__getitem__` (Method will be removed in 4.0.0, use self.wv.__getitem__() instead).\n",
      "  # This is added back by InteractiveShellApp.init_path()\n"
     ]
    }
   ],
   "source": [
    "title_i2e = load_embeddings(t_model, title_tok.index_word, embed_len = 100)"
   ]
  },
  {
   "cell_type": "code",
   "execution_count": 30,
   "metadata": {},
   "outputs": [],
   "source": [
    "# build title embedding matrix\n",
    "title_em = np.zeros((len(title_tok.index_word) + 1, embed_len))\n",
    "for word, i in title_tok.word_index.items():\n",
    "    embedding_vector = title_i2e[i]\n",
    "    if embedding_vector is not None:\n",
    "        # words not found in embedding index will be all-zeros.\n",
    "        title_em[i] = embedding_vector"
   ]
  },
  {
   "cell_type": "code",
   "execution_count": 31,
   "metadata": {},
   "outputs": [],
   "source": [
    "#load embedding matrix into embedding layer\n",
    "\n",
    "title_el = Embedding(len(title_tok.word_index) + 1,\n",
    "                     embed_len,\n",
    "                     weights=[title_em],\n",
    "                     input_length=t_max,\n",
    "                     trainable=False)"
   ]
  },
  {
   "cell_type": "markdown",
   "metadata": {
    "colab_type": "text",
    "id": "r7rdB0cnWvEi"
   },
   "source": [
    "### Building the classifier - CNN"
   ]
  },
  {
   "cell_type": "code",
   "execution_count": 32,
   "metadata": {},
   "outputs": [],
   "source": [
    "def cnn(binary, embedding = embedding_layer, lr = 0.001, hidden = 250):\n",
    "    \n",
    "    if binary:\n",
    "        loss = 'binary_crossentropy'\n",
    "        out = 1\n",
    "        act_out = 'sigmoid'\n",
    "    else:\n",
    "        loss = 'categorical_crossentropy'\n",
    "        out = 5\n",
    "        act_out = 'softmax'\n",
    "    \n",
    "    \n",
    "    filters = 250\n",
    "    kernel_size = 3\n",
    "    optim = Adam(lr=lr)\n",
    "    \n",
    "    \n",
    "    input_titles = Input(shape=(t_max,))\n",
    "    t_embed = title_el(input_titles)\n",
    "    \n",
    "    sequence_input = Input(shape=(max_len,), dtype='int32')\n",
    "    \n",
    "    embedded_sequences = embedding_layer(sequence_input)\n",
    "    \n",
    "    conc = Concatenate(axis=1)([t_embed, embedded_sequences])\n",
    "\n",
    "    drop1 = Dropout(0.2)(conc)\n",
    "\n",
    "    conv1 = Conv1D(filters,\n",
    "                  kernel_size,\n",
    "                  padding = 'valid',\n",
    "                  activation = 'relu',\n",
    "                  strides = 1)(drop1)\n",
    "\n",
    "    pool = GlobalMaxPool1D()(conv1)\n",
    "\n",
    "    dense1 = Dense(hidden, activation='relu')(pool)\n",
    "    drop2 = Dropout(0.2)(dense1)\n",
    "    output = Dense(out, activation = act_out)(drop2)\n",
    "    model = Model(inputs=[input_titles, sequence_input], outputs=output)\n",
    "    model.compile(loss=loss, optimizer=optim, metrics=['accuracy'])\n",
    "\n",
    "    model.summary()\n",
    "    \n",
    "    return model"
   ]
  },
  {
   "cell_type": "code",
   "execution_count": 33,
   "metadata": {},
   "outputs": [
    {
     "name": "stdout",
     "output_type": "stream",
     "text": [
      "WARNING:tensorflow:From /usr/local/lib/python3.7/dist-packages/tensorflow/python/ops/nn_impl.py:180: add_dispatch_support.<locals>.wrapper (from tensorflow.python.ops.array_ops) is deprecated and will be removed in a future version.\n",
      "Instructions for updating:\n",
      "Use tf.where in 2.0, which has the same broadcast rule as np.where\n",
      "Model: \"model_1\"\n",
      "__________________________________________________________________________________________________\n",
      "Layer (type)                    Output Shape         Param #     Connected to                     \n",
      "==================================================================================================\n",
      "input_1 (InputLayer)            (None, 86)           0                                            \n",
      "__________________________________________________________________________________________________\n",
      "input_2 (InputLayer)            (None, 1000)         0                                            \n",
      "__________________________________________________________________________________________________\n",
      "embedding_2 (Embedding)         (None, 86, 100)      641900      input_1[0][0]                    \n",
      "__________________________________________________________________________________________________\n",
      "embedding_1 (Embedding)         (None, 1000, 100)    4316500     input_2[0][0]                    \n",
      "__________________________________________________________________________________________________\n",
      "concatenate_1 (Concatenate)     (None, 1086, 100)    0           embedding_2[0][0]                \n",
      "                                                                 embedding_1[0][0]                \n",
      "__________________________________________________________________________________________________\n",
      "dropout_1 (Dropout)             (None, 1086, 100)    0           concatenate_1[0][0]              \n",
      "__________________________________________________________________________________________________\n",
      "conv1d_1 (Conv1D)               (None, 1084, 250)    75250       dropout_1[0][0]                  \n",
      "__________________________________________________________________________________________________\n",
      "global_max_pooling1d_1 (GlobalM (None, 250)          0           conv1d_1[0][0]                   \n",
      "__________________________________________________________________________________________________\n",
      "dense_1 (Dense)                 (None, 250)          62750       global_max_pooling1d_1[0][0]     \n",
      "__________________________________________________________________________________________________\n",
      "dropout_2 (Dropout)             (None, 250)          0           dense_1[0][0]                    \n",
      "__________________________________________________________________________________________________\n",
      "dense_2 (Dense)                 (None, 1)            251         dropout_2[0][0]                  \n",
      "==================================================================================================\n",
      "Total params: 5,096,651\n",
      "Trainable params: 138,251\n",
      "Non-trainable params: 4,958,400\n",
      "__________________________________________________________________________________________________\n",
      "Model: \"model_2\"\n",
      "__________________________________________________________________________________________________\n",
      "Layer (type)                    Output Shape         Param #     Connected to                     \n",
      "==================================================================================================\n",
      "input_3 (InputLayer)            (None, 86)           0                                            \n",
      "__________________________________________________________________________________________________\n",
      "input_4 (InputLayer)            (None, 1000)         0                                            \n",
      "__________________________________________________________________________________________________\n",
      "embedding_2 (Embedding)         (None, 86, 100)      641900      input_3[0][0]                    \n",
      "__________________________________________________________________________________________________\n",
      "embedding_1 (Embedding)         (None, 1000, 100)    4316500     input_4[0][0]                    \n",
      "__________________________________________________________________________________________________\n",
      "concatenate_2 (Concatenate)     (None, 1086, 100)    0           embedding_2[1][0]                \n",
      "                                                                 embedding_1[1][0]                \n",
      "__________________________________________________________________________________________________\n",
      "dropout_3 (Dropout)             (None, 1086, 100)    0           concatenate_2[0][0]              \n",
      "__________________________________________________________________________________________________\n",
      "conv1d_2 (Conv1D)               (None, 1084, 250)    75250       dropout_3[0][0]                  \n",
      "__________________________________________________________________________________________________\n",
      "global_max_pooling1d_2 (GlobalM (None, 250)          0           conv1d_2[0][0]                   \n",
      "__________________________________________________________________________________________________\n",
      "dense_3 (Dense)                 (None, 250)          62750       global_max_pooling1d_2[0][0]     \n",
      "__________________________________________________________________________________________________\n",
      "dropout_4 (Dropout)             (None, 250)          0           dense_3[0][0]                    \n",
      "__________________________________________________________________________________________________\n",
      "dense_4 (Dense)                 (None, 5)            1255        dropout_4[0][0]                  \n",
      "==================================================================================================\n",
      "Total params: 5,097,655\n",
      "Trainable params: 139,255\n",
      "Non-trainable params: 4,958,400\n",
      "__________________________________________________________________________________________________\n"
     ]
    }
   ],
   "source": [
    "model_bin = cnn(binary = True)\n",
    "model_mult = cnn(binary = False)"
   ]
  },
  {
   "cell_type": "code",
   "execution_count": 34,
   "metadata": {
    "colab": {},
    "colab_type": "code",
    "id": "50Z2bbm4WvEs"
   },
   "outputs": [
    {
     "name": "stdout",
     "output_type": "stream",
     "text": [
      "WARNING:tensorflow:From /usr/local/lib/python3.7/dist-packages/keras/backend/tensorflow_backend.py:422: The name tf.global_variables is deprecated. Please use tf.compat.v1.global_variables instead.\n",
      "\n",
      "Epoch 1/30\n",
      "2077/2077 [==============================] - 7s 4ms/step - loss: 3.6695 - accuracy: 0.4858\n",
      "Epoch 2/30\n",
      "2077/2077 [==============================] - 7s 4ms/step - loss: 2.1734 - accuracy: 0.5055\n",
      "Epoch 3/30\n",
      "2077/2077 [==============================] - 7s 4ms/step - loss: 1.3566 - accuracy: 0.5296\n",
      "Epoch 4/30\n",
      "2077/2077 [==============================] - 8s 4ms/step - loss: 1.8411 - accuracy: 0.5267\n",
      "Epoch 5/30\n",
      "2077/2077 [==============================] - 8s 4ms/step - loss: 1.2466 - accuracy: 0.5392\n",
      "Epoch 6/30\n",
      "2077/2077 [==============================] - 8s 4ms/step - loss: 1.0331 - accuracy: 0.5850\n",
      "Epoch 7/30\n",
      "2077/2077 [==============================] - 8s 4ms/step - loss: 1.1321 - accuracy: 0.5725\n",
      "Epoch 8/30\n",
      "2077/2077 [==============================] - 8s 4ms/step - loss: 0.8556 - accuracy: 0.6302\n",
      "Epoch 9/30\n",
      "2077/2077 [==============================] - 8s 4ms/step - loss: 0.9303 - accuracy: 0.6143\n",
      "Epoch 10/30\n",
      "2077/2077 [==============================] - 8s 4ms/step - loss: 0.8009 - accuracy: 0.6235\n",
      "Epoch 11/30\n",
      "2077/2077 [==============================] - 8s 4ms/step - loss: 0.7449 - accuracy: 0.6620\n",
      "Epoch 12/30\n",
      "2077/2077 [==============================] - 8s 4ms/step - loss: 0.7379 - accuracy: 0.6577\n",
      "Epoch 13/30\n",
      "2077/2077 [==============================] - 8s 4ms/step - loss: 0.7277 - accuracy: 0.6529\n",
      "Epoch 14/30\n",
      "2077/2077 [==============================] - 8s 4ms/step - loss: 0.7127 - accuracy: 0.6586\n",
      "Epoch 15/30\n",
      "2077/2077 [==============================] - 8s 4ms/step - loss: 0.6675 - accuracy: 0.6784\n",
      "Epoch 16/30\n",
      "2077/2077 [==============================] - 8s 4ms/step - loss: 0.6614 - accuracy: 0.6630\n",
      "Epoch 17/30\n",
      "2077/2077 [==============================] - 8s 4ms/step - loss: 0.5924 - accuracy: 0.7044\n",
      "Epoch 18/30\n",
      "2077/2077 [==============================] - 8s 4ms/step - loss: 0.6006 - accuracy: 0.6981\n",
      "Epoch 19/30\n",
      "2077/2077 [==============================] - 8s 4ms/step - loss: 0.5920 - accuracy: 0.7039\n",
      "Epoch 20/30\n",
      "2077/2077 [==============================] - 8s 4ms/step - loss: 0.5722 - accuracy: 0.6962\n",
      "Epoch 21/30\n",
      "2077/2077 [==============================] - 8s 4ms/step - loss: 0.5554 - accuracy: 0.7256\n",
      "Epoch 22/30\n",
      "2077/2077 [==============================] - 8s 4ms/step - loss: 0.5627 - accuracy: 0.7058\n",
      "Epoch 23/30\n",
      "2077/2077 [==============================] - 8s 4ms/step - loss: 0.5424 - accuracy: 0.7285\n",
      "Epoch 24/30\n",
      "2077/2077 [==============================] - 8s 4ms/step - loss: 0.5455 - accuracy: 0.7169\n",
      "Epoch 25/30\n",
      "2077/2077 [==============================] - 8s 4ms/step - loss: 0.5277 - accuracy: 0.7280\n",
      "Epoch 26/30\n",
      "2077/2077 [==============================] - 8s 4ms/step - loss: 0.5152 - accuracy: 0.7434\n",
      "Epoch 27/30\n",
      "2077/2077 [==============================] - 8s 4ms/step - loss: 0.4921 - accuracy: 0.7597\n",
      "Epoch 28/30\n",
      "2077/2077 [==============================] - 8s 4ms/step - loss: 0.5147 - accuracy: 0.7496\n",
      "Epoch 29/30\n",
      "2077/2077 [==============================] - 8s 4ms/step - loss: 0.5435 - accuracy: 0.7232\n",
      "Epoch 30/30\n",
      "2077/2077 [==============================] - 9s 4ms/step - loss: 0.5074 - accuracy: 0.7439\n"
     ]
    }
   ],
   "source": [
    "epochs = 30\n",
    "batch = 1024\n",
    "history_bin = model_bin.fit([t_train_pad,Xtrain_pad],\n",
    "                            Ytrain_bin, \n",
    "                            batch_size=batch,\n",
    "                            epochs=epochs,\n",
    "                            validation_split=0.1,\n",
    "                            verbose=1)"
   ]
  },
  {
   "cell_type": "code",
   "execution_count": 35,
   "metadata": {},
   "outputs": [
    {
     "name": "stdout",
     "output_type": "stream",
     "text": [
      "Epoch 1/20\n",
      "2077/2077 [==============================] - 8s 4ms/step - loss: 3.7761 - accuracy: 0.2436\n",
      "Epoch 2/20\n",
      "2077/2077 [==============================] - 8s 4ms/step - loss: 2.2792 - accuracy: 0.2807\n",
      "Epoch 3/20\n",
      "2077/2077 [==============================] - 8s 4ms/step - loss: 1.6743 - accuracy: 0.3361\n",
      "Epoch 4/20\n",
      "2077/2077 [==============================] - 8s 4ms/step - loss: 1.3987 - accuracy: 0.4218\n",
      "Epoch 5/20\n",
      "2077/2077 [==============================] - 8s 4ms/step - loss: 1.2766 - accuracy: 0.4646\n",
      "Epoch 6/20\n",
      "2077/2077 [==============================] - 8s 4ms/step - loss: 1.2221 - accuracy: 0.4738\n",
      "Epoch 7/20\n",
      "2077/2077 [==============================] - 8s 4ms/step - loss: 1.1717 - accuracy: 0.5123\n",
      "Epoch 8/20\n",
      "2077/2077 [==============================] - 8s 4ms/step - loss: 1.1362 - accuracy: 0.5373\n",
      "Epoch 9/20\n",
      "2077/2077 [==============================] - 8s 4ms/step - loss: 1.0830 - accuracy: 0.5489\n",
      "Epoch 10/20\n",
      "2077/2077 [==============================] - 8s 4ms/step - loss: 1.0464 - accuracy: 0.5753\n",
      "Epoch 11/20\n",
      "2077/2077 [==============================] - 8s 4ms/step - loss: 0.9926 - accuracy: 0.6057\n",
      "Epoch 12/20\n",
      "2077/2077 [==============================] - 8s 4ms/step - loss: 0.9733 - accuracy: 0.6211\n",
      "Epoch 13/20\n",
      "2077/2077 [==============================] - 8s 4ms/step - loss: 0.9611 - accuracy: 0.6206\n",
      "Epoch 14/20\n",
      "2077/2077 [==============================] - 8s 4ms/step - loss: 0.9436 - accuracy: 0.6278\n",
      "Epoch 15/20\n",
      "2077/2077 [==============================] - 8s 4ms/step - loss: 0.9216 - accuracy: 0.6379\n",
      "Epoch 16/20\n",
      "2077/2077 [==============================] - 8s 4ms/step - loss: 0.8714 - accuracy: 0.6702\n",
      "Epoch 17/20\n",
      "2077/2077 [==============================] - 8s 4ms/step - loss: 0.8446 - accuracy: 0.6837\n",
      "Epoch 18/20\n",
      "2077/2077 [==============================] - 8s 4ms/step - loss: 0.8045 - accuracy: 0.6938\n",
      "Epoch 19/20\n",
      "2077/2077 [==============================] - 8s 4ms/step - loss: 0.7882 - accuracy: 0.7053\n",
      "Epoch 20/20\n",
      "2077/2077 [==============================] - 8s 4ms/step - loss: 0.7641 - accuracy: 0.7082\n"
     ]
    }
   ],
   "source": [
    "epochs = 20\n",
    "batch = 256\n",
    "history_mult = model_mult.fit([t_train_pad,Xtrain_pad], \n",
    "                              Ytrain_mult_cat, \n",
    "                              batch_size=batch, \n",
    "                              epochs=epochs, \n",
    "                              validation_split = 0.01,\n",
    "                              verbose=1)"
   ]
  },
  {
   "cell_type": "code",
   "execution_count": 36,
   "metadata": {},
   "outputs": [],
   "source": [
    "import matplotlib.pyplot as plt\n",
    "\n",
    "def plot_history(history):\n",
    "\n",
    "    # Plot training & validation accuracy values\n",
    "    plt.plot(history.history['accuracy'])\n",
    "    #plt.plot(history.history['loss'])\n",
    "    #plt.plot(history.history['val_acc'])\n",
    "    plt.title('Model accuracy')\n",
    "    plt.ylabel('Accuracy')\n",
    "    plt.xlabel('Epoch')\n",
    "    #plt.legend(['Acc', 'Loss'], loc='upper left')\n",
    "    plt.show()\n",
    "\n",
    "    # Plot training & validation loss values\n",
    "    plt.plot(history.history['loss'])\n",
    "    #plt.plot(history.history['val_loss'])\n",
    "    plt.title('Model loss')\n",
    "    plt.ylabel('Loss')\n",
    "    plt.xlabel('Epoch')\n",
    "    #plt.legend(['Train', 'Test'], loc='upper left')\n",
    "    plt.show()"
   ]
  },
  {
   "cell_type": "code",
   "execution_count": 37,
   "metadata": {},
   "outputs": [
    {
     "data": {
      "image/png": "[encoded data removed]",
      "text/plain": [
       "<Figure size 432x288 with 1 Axes>"
      ]
     },
     "metadata": {
      "needs_background": "light"
     },
     "output_type": "display_data"
    },
    {
     "data": {
      "image/png": "[encoded data removed]",
      "text/plain": [
       "<Figure size 432x288 with 1 Axes>"
      ]
     },
     "metadata": {
      "needs_background": "light"
     },
     "output_type": "display_data"
    }
   ],
   "source": [
    "plot_history(history_bin)"
   ]
  },
  {
   "cell_type": "code",
   "execution_count": 38,
   "metadata": {
    "colab": {},
    "colab_type": "code",
    "id": "6hm13g7AWvEv"
   },
   "outputs": [],
   "source": [
    "predictions_bin = model_bin.predict([t_test_pad, Xtest_pad])"
   ]
  },
  {
   "cell_type": "code",
   "execution_count": 39,
   "metadata": {},
   "outputs": [],
   "source": [
    "def report(true, pred):\n",
    "    # binary classification returns a matrix with shape (X,1),\n",
    "    # multiclass returns shape (X,5)\n",
    "    if pred.shape[1] == 1:\n",
    "        pred_converted = [0 if p < 0.5 else 1 for p in pred]\n",
    "    else:\n",
    "        pred_converted = np.argmax(pred, axis=1)\n",
    "        \n",
    "    print(classification_report(true, pred_converted))\n",
    "    \n",
    "    return \n",
    "        "
   ]
  },
  {
   "cell_type": "code",
   "execution_count": 40,
   "metadata": {},
   "outputs": [
    {
     "name": "stdout",
     "output_type": "stream",
     "text": [
      "              precision    recall  f1-score   support\n",
      "\n",
      "         0.0       0.89      0.57      0.70       271\n",
      "         1.0       0.66      0.92      0.77       249\n",
      "\n",
      "    accuracy                           0.74       520\n",
      "   macro avg       0.77      0.75      0.73       520\n",
      "weighted avg       0.78      0.74      0.73       520\n",
      "\n"
     ]
    }
   ],
   "source": [
    "report(Ytest_bin, predictions_bin)"
   ]
  },
  {
   "cell_type": "code",
   "execution_count": 41,
   "metadata": {},
   "outputs": [
    {
     "name": "stdout",
     "output_type": "stream",
     "text": [
      "              precision    recall  f1-score   support\n",
      "\n",
      "           0       0.48      0.75      0.58       122\n",
      "           1       0.72      0.52      0.60        92\n",
      "           2       0.49      0.36      0.41        90\n",
      "           3       0.71      0.57      0.63       127\n",
      "           4       0.69      0.74      0.72        89\n",
      "\n",
      "    accuracy                           0.59       520\n",
      "   macro avg       0.62      0.59      0.59       520\n",
      "weighted avg       0.62      0.59      0.59       520\n",
      "\n"
     ]
    }
   ],
   "source": [
    "pred_mult = model_mult.predict([t_test_pad, Xtest_pad])\n",
    "report(Ytest_mult, pred_mult)"
   ]
  },
  {
   "cell_type": "code",
   "execution_count": null,
   "metadata": {},
   "outputs": [],
   "source": []
  },
  {
   "cell_type": "code",
   "execution_count": null,
   "metadata": {},
   "outputs": [],
   "source": []
  }
 ],
 "metadata": {
  "accelerator": "GPU",
  "colab": {
   "collapsed_sections": [],
   "name": "embed_lstm.ipynb",
   "private_outputs": true,
   "provenance": [],
   "toc_visible": true
  },
  "kernelspec": {
   "display_name": "Python 3",
   "language": "python",
   "name": "python3"
  },
  "language_info": {
   "codemirror_mode": {
    "name": "ipython",
    "version": 3
   },
   "file_extension": ".py",
   "mimetype": "text/x-python",
   "name": "python",
   "nbconvert_exporter": "python",
   "pygments_lexer": "ipython3",
   "version": "3.7.3"
  }
 },
 "nbformat": 4,
 "nbformat_minor": 1
}
