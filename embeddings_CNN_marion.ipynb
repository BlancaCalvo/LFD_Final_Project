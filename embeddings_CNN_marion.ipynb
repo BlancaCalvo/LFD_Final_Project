{
 "cells": [
  {
   "cell_type": "markdown",
   "metadata": {
    "colab_type": "text",
    "id": "13ymSU11WvDa"
   },
   "source": [
    "## Import"
   ]
  },
  {
   "cell_type": "code",
   "execution_count": 1,
   "metadata": {
    "colab": {},
    "colab_type": "code",
    "id": "z2fl8SDXXT00"
   },
   "outputs": [],
   "source": [
    "# this is for google colab\n",
    "#from google.colab import drive\n",
    "#drive.mount('/content/drive')"
   ]
  },
  {
   "cell_type": "code",
   "execution_count": 2,
   "metadata": {
    "colab": {},
    "colab_type": "code",
    "id": "DqaHYo_UWvDc"
   },
   "outputs": [
    {
     "name": "stderr",
     "output_type": "stream",
     "text": [
      "Using TensorFlow backend.\n"
     ]
    }
   ],
   "source": [
    "import os \n",
    "\n",
    "# tool_path = \"/content/drive/Shared drives/Shared Task SentiMix/tools\"\n",
    "\n",
    "# import tools\n",
    "\n",
    "# import tools.baseline as bt\n",
    "# import tools.data as data_tools\n",
    "import numpy as np\n",
    "import pandas as pd\n",
    "\n",
    "from sklearn.metrics import classification_report\n",
    "from gensim.models import Word2Vec, KeyedVectors\n",
    "from sklearn.preprocessing import LabelBinarizer\n",
    "from sklearn.metrics import accuracy_score\n",
    "from sklearn.model_selection import train_test_split\n",
    "\n",
    "import keras\n",
    "from keras.models import Sequential\n",
    "from keras.layers.core import Dense, Activation\n",
    "from keras.optimizers import SGD\n",
    "from keras.preprocessing.sequence import pad_sequences\n",
    "from keras.preprocessing.text import Tokenizer\n",
    "from keras.layers import Embedding, Bidirectional, Dropout, Conv1D, GlobalMaxPool1D\n",
    "from keras.utils import to_categorical\n",
    "from keras.models import Model, Input\n",
    "from keras.optimizers import Adam\n",
    "from collections import defaultdict\n",
    "import json\n",
    "\n",
    "from keras.layers import *\n"
   ]
  },
  {
   "cell_type": "code",
   "execution_count": 3,
   "metadata": {},
   "outputs": [],
   "source": [
    "def read_corpus(corpus_file):\n",
    "    \"\"\"read input document and return the textual articles\n",
    "    and either the bias or hyperpartisan label\"\"\"\n",
    "\n",
    "    with open(corpus_file) as json_file:\n",
    "        data = json.load(json_file)\n",
    "\n",
    "    data = pd.DataFrame(data)\n",
    "    documents = data.text\n",
    "    labels_bin = data.hyperp\n",
    "    labels_mult = data.bias\n",
    "\n",
    "\n",
    "    return documents, labels_bin, labels_mult"
   ]
  },
  {
   "cell_type": "markdown",
   "metadata": {},
   "source": [
    "## Import Data"
   ]
  },
  {
   "cell_type": "code",
   "execution_count": 4,
   "metadata": {},
   "outputs": [],
   "source": [
    "X, Y_bin, Y_mult = read_corpus('tokenized_with_NUM.json')"
   ]
  },
  {
   "cell_type": "code",
   "execution_count": 5,
   "metadata": {},
   "outputs": [],
   "source": [
    "Xtrain, Xtest, Ytrain_bin, Ytest_bin, Ytrain_mult, Ytest_mult = train_test_split(X, \n",
    "                                                Y_bin, \n",
    "                                                Y_mult, \n",
    "                                                test_size = 0.2,\n",
    "                                                stratify = Y_bin)"
   ]
  },
  {
   "cell_type": "code",
   "execution_count": 6,
   "metadata": {
    "colab": {},
    "colab_type": "code",
    "id": "HuAJJFJmWvDm"
   },
   "outputs": [],
   "source": [
    "toki = Tokenizer()\n",
    "toki.fit_on_texts(Xtrain)"
   ]
  },
  {
   "cell_type": "code",
   "execution_count": 7,
   "metadata": {
    "colab": {},
    "colab_type": "code",
    "id": "A4mEdrNxWvDq"
   },
   "outputs": [],
   "source": [
    "Xtrain_seq = toki.texts_to_sequences(Xtrain)\n",
    "Xtest_seq = toki.texts_to_sequences(Xtest)"
   ]
  },
  {
   "cell_type": "code",
   "execution_count": 8,
   "metadata": {
    "colab": {},
    "colab_type": "code",
    "id": "2fLPNbFAWvDt"
   },
   "outputs": [
    {
     "name": "stdout",
     "output_type": "stream",
     "text": [
      "[557, 4955, 8122, 488, 9735, 7, 4258, 1401, 135, 8, 2703, 2, 52, 18, 1968, 1188, 19, 1481, 1172, 10806, 7544, 8122, 3, 13, 8123, 36, 66, 11, 257, 265, 140, 2061, 8, 1481, 643, 6, 31, 463, 1928, 1252, 8, 1, 4258, 262, 4956, 5, 1, 135, 972, 1, 262, 50, 28, 2380, 857, 8, 309, 6, 723, 5, 444, 2703, 11, 730, 1, 23551, 72, 8, 1, 146, 17, 1, 657, 385, 2, 7545, 178, 2, 48, 236, 2, 523, 2, 6, 48, 2809, 4957, 3, 39, 3, 211, 31, 166, 4, 28, 8824, 12, 17499, 8, 2703, 2, 3, 8122, 131, 7, 323, 3745, 4594, 3, 15, 3, 13, 14415, 10807, 12, 2810, 7052, 6, 3264, 8, 1, 1928, 5, 6291, 8, 81, 4778, 3, 1, 262, 50, 28, 3337, 1, 1040, 5, 420, 707, 7053, 8, 2703, 2, 167, 59, 8, 23552, 24, 30, 9, 20, 8124, 2381, 50, 28, 71, 57, 828, 22, 23553, 6, 24, 30, 9, 20, 8, 175, 1727, 3, 23554, 6, 23555, 4958, 3, 38, 43, 184, 4, 192, 10808, 17, 62, 1550, 4, 1189, 7, 135, 10, 43, 691, 7, 1481, 4258, 4, 27, 1113, 6, 4007, 12322, 2, 3, 1172, 7544, 2598, 3, 23556, 643, 3, 29, 391, 7, 995, 3029, 12, 1, 205, 1076, 8, 46, 708, 119, 84, 128, 2703, 29, 517, 57, 7054, 16, 4421, 2, 5950, 2, 6, 14416, 8, 385, 3, 597, 996, 4, 46, 4008, 2750, 66, 2, 205, 557, 1551, 3871, 4007, 37, 2382, 453, 135, 8, 7, 12323, 1271, 4, 589, 37, 72, 3, 13, 385, 800, 8122, 29, 222, 12, 1661, 850, 16, 152, 2, 34, 4, 74, 10809, 37, 793, 1282, 602, 4, 27, 1253, 1, 4258, 262, 5395, 8, 370, 4, 3030, 765, 850, 1, 557, 114, 27, 1041, 33, 12324, 1361, 2, 24, 30, 9, 20, 960, 8, 7, 1901, 72, 105, 2703, 2, 127, 7, 1481, 1994, 453, 961, 11, 257, 4779, 8, 8825, 5, 205, 579, 4, 23557, 2703, 3, 13, 1607, 17500, 2, 175, 8122, 6, 7544, 24, 30, 9, 20, 1222, 22, 1, 300, 161, 1787, 8, 9736, 2, 270, 1316, 1172, 7544, 43, 603, 37, 1583, 893, 8, 1, 881, 5, 5951, 1, 1994, 961, 2703, 973, 637, 10810, 17501, 71, 1222, 6, 72, 1849, 1902, 23558, 149, 7, 2092, 2886, 47, 72, 228, 43, 655, 327, 2, 16, 1849, 6670, 8826, 6, 237, 96, 2703, 1021, 5952, 14417, 24, 30, 9, 20, 25, 71, 6292, 4, 1264]\n"
     ]
    }
   ],
   "source": [
    "print(Xtrain_seq[0])"
   ]
  },
  {
   "cell_type": "code",
   "execution_count": 9,
   "metadata": {
    "colab": {},
    "colab_type": "code",
    "id": "Rvn7NZ_iWvDy"
   },
   "outputs": [],
   "source": [
    "word2index = toki.word_index\n",
    "word2index['PAD'] = 0"
   ]
  },
  {
   "cell_type": "code",
   "execution_count": 10,
   "metadata": {
    "colab": {},
    "colab_type": "code",
    "id": "Mb3fIeqnWvD2"
   },
   "outputs": [
    {
     "name": "stdout",
     "output_type": "stream",
     "text": [
      "PAD\n"
     ]
    }
   ],
   "source": [
    "index2word = toki.index_word\n",
    "index2word[0] = 'PAD'\n",
    "print(index2word[0])"
   ]
  },
  {
   "cell_type": "code",
   "execution_count": 11,
   "metadata": {
    "colab": {},
    "colab_type": "code",
    "id": "bQfOn7v3WvD5"
   },
   "outputs": [
    {
     "name": "stdout",
     "output_type": "stream",
     "text": [
      "3157 602.4209006928406\n"
     ]
    }
   ],
   "source": [
    "#get max length of words\n",
    "\n",
    "lens = [len(text) for text in Xtrain]\n",
    "\n",
    "max_article_len = max(lens)\n",
    "mean_article_len = np.mean(lens)\n",
    "print(max_article_len, mean_article_len)\n",
    "\n",
    "max_len = 1000"
   ]
  },
  {
   "cell_type": "code",
   "execution_count": 12,
   "metadata": {
    "colab": {},
    "colab_type": "code",
    "id": "MLSlD2KSWvD9"
   },
   "outputs": [],
   "source": [
    "#pre-pad the tweets with value 0\n",
    "# that is prepadding (Louis so you understand as well)\n",
    "Xtrain_pad = pad_sequences(Xtrain_seq, maxlen = max_len)\n",
    "Xtest_pad = pad_sequences(Xtest_seq, maxlen = max_len)"
   ]
  },
  {
   "cell_type": "markdown",
   "metadata": {},
   "source": [
    "### Labels"
   ]
  },
  {
   "cell_type": "code",
   "execution_count": 13,
   "metadata": {
    "colab": {},
    "colab_type": "code",
    "id": "_0EbZrlOWvEA"
   },
   "outputs": [
    {
     "data": {
      "text/plain": [
       "237     False\n",
       "1752     True\n",
       "208     False\n",
       "Name: hyperp, dtype: bool"
      ]
     },
     "execution_count": 13,
     "metadata": {},
     "output_type": "execute_result"
    }
   ],
   "source": [
    "Ytrain_bin[:3]"
   ]
  },
  {
   "cell_type": "code",
   "execution_count": 14,
   "metadata": {},
   "outputs": [],
   "source": [
    "Ytrain_bin = np.asarray([0. if l == False else 1. for l in Ytrain_bin])\n",
    "Ytest_bin = np.asarray([0. if l == False else 1. for l in Ytest_bin])"
   ]
  },
  {
   "cell_type": "code",
   "execution_count": 15,
   "metadata": {},
   "outputs": [],
   "source": [
    "# Ytrain_bin = to_categorical(Ytrain_bin)\n",
    "# Ytest_bin = to_categorical(Ytest_bin)"
   ]
  },
  {
   "cell_type": "code",
   "execution_count": 16,
   "metadata": {},
   "outputs": [
    {
     "data": {
      "text/plain": [
       "array([0., 1., 1.])"
      ]
     },
     "execution_count": 16,
     "metadata": {},
     "output_type": "execute_result"
    }
   ],
   "source": [
    "Ytest_bin[:3]"
   ]
  },
  {
   "cell_type": "code",
   "execution_count": 17,
   "metadata": {},
   "outputs": [],
   "source": [
    "mult_labels = set(Ytrain_mult)"
   ]
  },
  {
   "cell_type": "code",
   "execution_count": 18,
   "metadata": {
    "colab": {},
    "colab_type": "code",
    "id": "EwsprURhWvEE"
   },
   "outputs": [
    {
     "name": "stdout",
     "output_type": "stream",
     "text": [
      "defaultdict(None, {'right-center': 0, 'left': 1, 'least': 2, 'left-center': 3, 'right': 4})\n"
     ]
    }
   ],
   "source": [
    "label_dict = defaultdict()\n",
    "for i, l in enumerate(mult_labels):\n",
    "    label_dict[l] = i\n",
    "    \n",
    "print(label_dict)"
   ]
  },
  {
   "cell_type": "code",
   "execution_count": 19,
   "metadata": {
    "colab": {},
    "colab_type": "code",
    "id": "tYe73g-nWvEH"
   },
   "outputs": [],
   "source": [
    "Ytrain_mult = [label_dict[label] for label in Ytrain_mult]\n",
    "Ytest_mult = [label_dict[label] for label in Ytest_mult] \n",
    "\n",
    "# this is now a list of numbers"
   ]
  },
  {
   "cell_type": "code",
   "execution_count": 20,
   "metadata": {
    "colab": {},
    "colab_type": "code",
    "id": "FCX_ktnIWvEL"
   },
   "outputs": [],
   "source": [
    "no_cls = len(label_dict)\n",
    "\n",
    "Ytrain_mult_cat = np.asarray([to_categorical(label, num_classes = no_cls) for label in Ytrain_mult])\n",
    "Ytest_mult_cat = np.asarray([to_categorical(label, num_classes = no_cls) for label in Ytest_mult])"
   ]
  },
  {
   "cell_type": "code",
   "execution_count": 21,
   "metadata": {
    "colab": {},
    "colab_type": "code",
    "id": "cFn4e9NsWvES"
   },
   "outputs": [
    {
     "name": "stdout",
     "output_type": "stream",
     "text": [
      "Shape of data tensor: (1732, 1000)\n",
      "Shape of binary label tensor: (1732,)\n",
      "Shape of multilabel tensor: (1732, 5)\n"
     ]
    }
   ],
   "source": [
    "print('Shape of data tensor:', Xtrain_pad.shape)\n",
    "print('Shape of binary label tensor:', Ytrain_bin.shape)\n",
    "print('Shape of multilabel tensor:', Ytrain_mult_cat.shape)"
   ]
  },
  {
   "cell_type": "markdown",
   "metadata": {
    "colab_type": "text",
    "id": "2ny9O1CCWvEV"
   },
   "source": [
    "### Prepare the Embedding Layer"
   ]
  },
  {
   "cell_type": "code",
   "execution_count": 22,
   "metadata": {
    "colab": {},
    "colab_type": "code",
    "id": "3aMXU3exWvEW"
   },
   "outputs": [],
   "source": [
    "w2v_path = 'data/GoogleNews-vectors-negative300.bin'\n",
    "embeddings = Word2Vec.load('model_all.bin')\n",
    "embed_len = 100\n",
    "\n",
    "\n",
    "#embed_w2v = KeyedVectors.load_word2vec_format(w2v_path, binary=True)"
   ]
  },
  {
   "cell_type": "code",
   "execution_count": 23,
   "metadata": {
    "colab": {},
    "colab_type": "code",
    "id": "FV5k0356WvEZ"
   },
   "outputs": [],
   "source": [
    "#w = filter(lambda x: x in model.vocab, list(model.wv.vocab))\n",
    "#print model.most_similar(positive=w)\n",
    "\n",
    "def load_embeddings(model, i2w, embed_len):\n",
    "    \n",
    "    index2embed = dict()\n",
    "    w = filter(lambda x: x in word2index.keys(), list(embeddings.wv.vocab))\n",
    "\n",
    "    for i, w in i2w.items():\n",
    "        try:\n",
    "            embed = model[w]\n",
    "        except KeyError:\n",
    "            embed = np.zeros(embed_len)\n",
    "            #embed = embeddings.most_similar(positive=w)\n",
    "        index2embed[i] = embed\n",
    "    \n",
    "    return index2embed\n",
    "\n",
    "def load_w2v(model,i2w):\n",
    "    index2emb = dict()\n",
    "    \n",
    "    for i, w in i2w.items():\n",
    "        try:\n",
    "            embed = model[w]\n",
    "        except KeyError:\n",
    "            embed = model['UNK']\n",
    "            #embed = embeddings.most_similar(positive=w)\n",
    "        index2embed[i] = embed\n",
    "    \n",
    "    return index2embed\n"
   ]
  },
  {
   "cell_type": "code",
   "execution_count": 24,
   "metadata": {},
   "outputs": [
    {
     "name": "stderr",
     "output_type": "stream",
     "text": [
      "/usr/local/lib/python3.7/dist-packages/ipykernel_launcher.py:11: DeprecationWarning: Call to deprecated `__getitem__` (Method will be removed in 4.0.0, use self.wv.__getitem__() instead).\n",
      "  # This is added back by InteractiveShellApp.init_path()\n"
     ]
    }
   ],
   "source": [
    "#index2embed = loadw2v(embed_w2v, index2word)\n",
    "index2embed = load_embeddings(embeddings, index2word, embed_len)"
   ]
  },
  {
   "cell_type": "code",
   "execution_count": 25,
   "metadata": {
    "colab": {},
    "colab_type": "code",
    "id": "IRT4gSxcWvEc"
   },
   "outputs": [],
   "source": [
    "#compute embedding matrix\n",
    "\n",
    "embedding_matrix = np.zeros((len(word2index) + 1, embed_len))\n",
    "for word, i in word2index.items():\n",
    "    embedding_vector = index2embed[i]\n",
    "    if embedding_vector is not None:\n",
    "        # words not found in embedding index will be all-zeros.\n",
    "        embedding_matrix[i] = embedding_vector"
   ]
  },
  {
   "cell_type": "code",
   "execution_count": 26,
   "metadata": {
    "colab": {},
    "colab_type": "code",
    "id": "46WMiWTgWvEf"
   },
   "outputs": [],
   "source": [
    "#load embedding matrix into embedding layer\n",
    "\n",
    "\n",
    "embedding_layer = Embedding(len(word2index) + 1,\n",
    "                            embed_len,\n",
    "                            weights=[embedding_matrix],\n",
    "                            input_length=max_len,\n",
    "                            trainable=False)"
   ]
  },
  {
   "cell_type": "markdown",
   "metadata": {
    "colab_type": "text",
    "id": "r7rdB0cnWvEi"
   },
   "source": [
    "### Building the classifier - CNN"
   ]
  },
  {
   "cell_type": "code",
   "execution_count": 27,
   "metadata": {},
   "outputs": [],
   "source": [
    "def cnn(binary, embedding = embedding_layer, lr = 0.001, hidden = 250):\n",
    "    \n",
    "    if binary:\n",
    "        loss = 'binary_crossentropy'\n",
    "        out = 1\n",
    "        act_out = 'sigmoid'\n",
    "    else:\n",
    "        loss = 'categorical_crossentropy'\n",
    "        out = 5\n",
    "        act_out = 'softmax'\n",
    "    \n",
    "    \n",
    "    filters = 250\n",
    "    kernel_size = 3\n",
    "    optim = Adam(lr=lr)\n",
    "    \n",
    "    sequence_input = Input(shape=(max_len,), dtype='int32')\n",
    "    embedded_sequences = embedding_layer(sequence_input)\n",
    "\n",
    "    drop1 = Dropout(0.2)(embedded_sequences)\n",
    "\n",
    "    conv1 = Conv1D(filters,\n",
    "                  kernel_size,\n",
    "                  padding = 'valid',\n",
    "                  activation = 'relu',\n",
    "                  strides = 1)(drop1)\n",
    "\n",
    "    pool = GlobalMaxPool1D()(conv1)\n",
    "\n",
    "    dense1 = Dense(hidden, activation='relu')(pool)\n",
    "    drop2 = Dropout(0.2)(dense1)\n",
    "    output = Dense(out, activation = act_out)(drop2)\n",
    "    model = Model(inputs=sequence_input, outputs=output)\n",
    "    model.compile(loss=loss, optimizer=optim, metrics=['accuracy'])\n",
    "\n",
    "    model.summary()\n",
    "    \n",
    "    return model"
   ]
  },
  {
   "cell_type": "code",
   "execution_count": 28,
   "metadata": {},
   "outputs": [
    {
     "name": "stdout",
     "output_type": "stream",
     "text": [
      "WARNING:tensorflow:From /usr/local/lib/python3.7/dist-packages/tensorflow/python/ops/nn_impl.py:180: add_dispatch_support.<locals>.wrapper (from tensorflow.python.ops.array_ops) is deprecated and will be removed in a future version.\n",
      "Instructions for updating:\n",
      "Use tf.where in 2.0, which has the same broadcast rule as np.where\n",
      "Model: \"model_1\"\n",
      "_________________________________________________________________\n",
      "Layer (type)                 Output Shape              Param #   \n",
      "=================================================================\n",
      "input_1 (InputLayer)         (None, 1000)              0         \n",
      "_________________________________________________________________\n",
      "embedding_1 (Embedding)      (None, 1000, 100)         4179700   \n",
      "_________________________________________________________________\n",
      "dropout_1 (Dropout)          (None, 1000, 100)         0         \n",
      "_________________________________________________________________\n",
      "conv1d_1 (Conv1D)            (None, 998, 250)          75250     \n",
      "_________________________________________________________________\n",
      "global_max_pooling1d_1 (Glob (None, 250)               0         \n",
      "_________________________________________________________________\n",
      "dense_1 (Dense)              (None, 250)               62750     \n",
      "_________________________________________________________________\n",
      "dropout_2 (Dropout)          (None, 250)               0         \n",
      "_________________________________________________________________\n",
      "dense_2 (Dense)              (None, 1)                 251       \n",
      "=================================================================\n",
      "Total params: 4,317,951\n",
      "Trainable params: 138,251\n",
      "Non-trainable params: 4,179,700\n",
      "_________________________________________________________________\n",
      "Model: \"model_2\"\n",
      "_________________________________________________________________\n",
      "Layer (type)                 Output Shape              Param #   \n",
      "=================================================================\n",
      "input_2 (InputLayer)         (None, 1000)              0         \n",
      "_________________________________________________________________\n",
      "embedding_1 (Embedding)      (None, 1000, 100)         4179700   \n",
      "_________________________________________________________________\n",
      "dropout_3 (Dropout)          (None, 1000, 100)         0         \n",
      "_________________________________________________________________\n",
      "conv1d_2 (Conv1D)            (None, 998, 250)          75250     \n",
      "_________________________________________________________________\n",
      "global_max_pooling1d_2 (Glob (None, 250)               0         \n",
      "_________________________________________________________________\n",
      "dense_3 (Dense)              (None, 250)               62750     \n",
      "_________________________________________________________________\n",
      "dropout_4 (Dropout)          (None, 250)               0         \n",
      "_________________________________________________________________\n",
      "dense_4 (Dense)              (None, 5)                 1255      \n",
      "=================================================================\n",
      "Total params: 4,318,955\n",
      "Trainable params: 139,255\n",
      "Non-trainable params: 4,179,700\n",
      "_________________________________________________________________\n"
     ]
    }
   ],
   "source": [
    "model_bin = cnn(binary = True)\n",
    "model_mult = cnn(binary = False)"
   ]
  },
  {
   "cell_type": "code",
   "execution_count": 30,
   "metadata": {
    "colab": {},
    "colab_type": "code",
    "id": "50Z2bbm4WvEs"
   },
   "outputs": [
    {
     "name": "stdout",
     "output_type": "stream",
     "text": [
      "Epoch 1/50\n",
      "1732/1732 [==============================] - 6s 3ms/step - loss: 3.5009 - accuracy: 0.2673\n",
      "Epoch 2/50\n",
      "1732/1732 [==============================] - 6s 3ms/step - loss: 2.3006 - accuracy: 0.2766\n",
      "Epoch 3/50\n",
      "1732/1732 [==============================] - 6s 3ms/step - loss: 2.1938 - accuracy: 0.3118\n",
      "Epoch 4/50\n",
      "1732/1732 [==============================] - 6s 3ms/step - loss: 1.8328 - accuracy: 0.3522\n",
      "Epoch 5/50\n",
      "1732/1732 [==============================] - 6s 3ms/step - loss: 1.5198 - accuracy: 0.4105\n",
      "Epoch 6/50\n",
      "1732/1732 [==============================] - 5s 3ms/step - loss: 1.4310 - accuracy: 0.4319\n",
      "Epoch 7/50\n",
      "1732/1732 [==============================] - 6s 3ms/step - loss: 1.2051 - accuracy: 0.5167\n",
      "Epoch 8/50\n",
      "1732/1732 [==============================] - 6s 4ms/step - loss: 1.1733 - accuracy: 0.5254\n",
      "Epoch 9/50\n",
      "1732/1732 [==============================] - 6s 4ms/step - loss: 1.0515 - accuracy: 0.5912\n",
      "Epoch 10/50\n",
      "1732/1732 [==============================] - 6s 4ms/step - loss: 1.0213 - accuracy: 0.5993\n",
      "Epoch 11/50\n",
      "1732/1732 [==============================] - 6s 3ms/step - loss: 0.9694 - accuracy: 0.6114\n",
      "Epoch 12/50\n",
      "1732/1732 [==============================] - 6s 3ms/step - loss: 0.9457 - accuracy: 0.6391\n",
      "Epoch 13/50\n",
      "1732/1732 [==============================] - 6s 3ms/step - loss: 0.9120 - accuracy: 0.6524\n",
      "Epoch 14/50\n",
      "1732/1732 [==============================] - 6s 3ms/step - loss: 0.8844 - accuracy: 0.6524\n",
      "Epoch 15/50\n",
      "1732/1732 [==============================] - 6s 3ms/step - loss: 0.8469 - accuracy: 0.6680\n",
      "Epoch 16/50\n",
      "1732/1732 [==============================] - 6s 3ms/step - loss: 0.8343 - accuracy: 0.6882\n",
      "Epoch 17/50\n",
      "1732/1732 [==============================] - 6s 4ms/step - loss: 0.7854 - accuracy: 0.7102\n",
      "Epoch 18/50\n",
      "1732/1732 [==============================] - 6s 4ms/step - loss: 0.7597 - accuracy: 0.7148\n",
      "Epoch 19/50\n",
      "1732/1732 [==============================] - 6s 3ms/step - loss: 0.7457 - accuracy: 0.7263\n",
      "Epoch 20/50\n",
      "1732/1732 [==============================] - 6s 4ms/step - loss: 0.7345 - accuracy: 0.7206\n",
      "Epoch 21/50\n",
      "1732/1732 [==============================] - 6s 4ms/step - loss: 0.7148 - accuracy: 0.7413\n",
      "Epoch 22/50\n",
      "1732/1732 [==============================] - 6s 3ms/step - loss: 0.6874 - accuracy: 0.7523\n",
      "Epoch 23/50\n",
      "1732/1732 [==============================] - 6s 3ms/step - loss: 0.6842 - accuracy: 0.7448\n",
      "Epoch 24/50\n",
      "1732/1732 [==============================] - 6s 3ms/step - loss: 0.6490 - accuracy: 0.7644\n",
      "Epoch 25/50\n",
      "1732/1732 [==============================] - 6s 3ms/step - loss: 0.6347 - accuracy: 0.7748\n",
      "Epoch 26/50\n",
      "1732/1732 [==============================] - 6s 3ms/step - loss: 0.6040 - accuracy: 0.7875\n",
      "Epoch 27/50\n",
      "1732/1732 [==============================] - 6s 3ms/step - loss: 0.6097 - accuracy: 0.7835\n",
      "Epoch 28/50\n",
      "1732/1732 [==============================] - 6s 3ms/step - loss: 0.5905 - accuracy: 0.7754\n",
      "Epoch 29/50\n",
      "1732/1732 [==============================] - 6s 3ms/step - loss: 0.5716 - accuracy: 0.8048\n",
      "Epoch 30/50\n",
      "1732/1732 [==============================] - 6s 3ms/step - loss: 0.5538 - accuracy: 0.8124\n",
      "Epoch 31/50\n",
      "1732/1732 [==============================] - 6s 3ms/step - loss: 0.5427 - accuracy: 0.8106\n",
      "Epoch 32/50\n",
      "1732/1732 [==============================] - 6s 3ms/step - loss: 0.5245 - accuracy: 0.8222\n",
      "Epoch 33/50\n",
      "1732/1732 [==============================] - 6s 3ms/step - loss: 0.5107 - accuracy: 0.8268\n",
      "Epoch 34/50\n",
      "1732/1732 [==============================] - 6s 3ms/step - loss: 0.4877 - accuracy: 0.8395\n",
      "Epoch 35/50\n",
      "1732/1732 [==============================] - 6s 3ms/step - loss: 0.4885 - accuracy: 0.8285\n",
      "Epoch 36/50\n",
      "1732/1732 [==============================] - 6s 3ms/step - loss: 0.4764 - accuracy: 0.8337\n",
      "Epoch 37/50\n",
      "1732/1732 [==============================] - 6s 3ms/step - loss: 0.4476 - accuracy: 0.8557\n",
      "Epoch 38/50\n",
      "1732/1732 [==============================] - 6s 3ms/step - loss: 0.4642 - accuracy: 0.8349\n",
      "Epoch 39/50\n",
      "1732/1732 [==============================] - 6s 3ms/step - loss: 0.4352 - accuracy: 0.8591\n",
      "Epoch 40/50\n",
      "1732/1732 [==============================] - 6s 3ms/step - loss: 0.4264 - accuracy: 0.8539\n",
      "Epoch 41/50\n",
      "1732/1732 [==============================] - 6s 3ms/step - loss: 0.4061 - accuracy: 0.8678\n",
      "Epoch 42/50\n",
      "1732/1732 [==============================] - 6s 3ms/step - loss: 0.3910 - accuracy: 0.8759\n",
      "Epoch 43/50\n",
      "1732/1732 [==============================] - 6s 3ms/step - loss: 0.3762 - accuracy: 0.8834\n",
      "Epoch 44/50\n",
      "1732/1732 [==============================] - 6s 3ms/step - loss: 0.3795 - accuracy: 0.8707\n",
      "Epoch 45/50\n",
      "1732/1732 [==============================] - 6s 3ms/step - loss: 0.3559 - accuracy: 0.8903\n",
      "Epoch 46/50\n",
      "1732/1732 [==============================] - 6s 3ms/step - loss: 0.3623 - accuracy: 0.8857\n",
      "Epoch 47/50\n",
      "1732/1732 [==============================] - 6s 3ms/step - loss: 0.3484 - accuracy: 0.8955\n",
      "Epoch 48/50\n",
      "1732/1732 [==============================] - 6s 3ms/step - loss: 0.3429 - accuracy: 0.8967\n",
      "Epoch 49/50\n",
      "1732/1732 [==============================] - 6s 3ms/step - loss: 0.3235 - accuracy: 0.8990\n",
      "Epoch 50/50\n",
      "1732/1732 [==============================] - 6s 3ms/step - loss: 0.3101 - accuracy: 0.9053\n"
     ]
    }
   ],
   "source": [
    "epochs = 50\n",
    "batch = 512\n",
    "history_mult = model_mult.fit(Xtrain_pad, \n",
    "                              Ytrain_mult_cat, \n",
    "                              batch_size=batch, \n",
    "                              epochs=epochs, \n",
    "                              verbose=1)"
   ]
  },
  {
   "cell_type": "code",
   "execution_count": 31,
   "metadata": {},
   "outputs": [],
   "source": [
    "import matplotlib.pyplot as plt\n",
    "\n",
    "def plot_history(history):\n",
    "\n",
    "    # Plot training & validation accuracy values\n",
    "    plt.plot(history.history['accuracy'])\n",
    "    #plt.plot(history.history['loss'])\n",
    "    #plt.plot(history.history['val_acc'])\n",
    "    plt.title('Model accuracy')\n",
    "    plt.ylabel('Accuracy')\n",
    "    plt.xlabel('Epoch')\n",
    "    #plt.legend(['Acc', 'Loss'], loc='upper left')\n",
    "    plt.show()\n",
    "\n",
    "    # Plot training & validation loss values\n",
    "    plt.plot(history.history['loss'])\n",
    "    #plt.plot(history.history['val_loss'])\n",
    "    plt.title('Model loss')\n",
    "    plt.ylabel('Loss')\n",
    "    plt.xlabel('Epoch')\n",
    "    #plt.legend(['Train', 'Test'], loc='upper left')\n",
    "    plt.show()"
   ]
  },
  {
   "cell_type": "code",
   "execution_count": 32,
   "metadata": {},
   "outputs": [
    {
     "data": {
      "image/png": "[encoded data removed]",
      "text/plain": [
       "<Figure size 432x288 with 1 Axes>"
      ]
     },
     "metadata": {
      "needs_background": "light"
     },
     "output_type": "display_data"
    },
    {
     "data": {
      "image/png": "[encoded data removed]",
      "text/plain": [
       "<Figure size 432x288 with 1 Axes>"
      ]
     },
     "metadata": {
      "needs_background": "light"
     },
     "output_type": "display_data"
    }
   ],
   "source": [
    "plot_history(history_mult)"
   ]
  },
  {
   "cell_type": "code",
   "execution_count": 33,
   "metadata": {
    "colab": {},
    "colab_type": "code",
    "id": "6hm13g7AWvEv"
   },
   "outputs": [],
   "source": [
    "predictions = model_mult.predict(Xtest_pad)"
   ]
  },
  {
   "cell_type": "code",
   "execution_count": 34,
   "metadata": {},
   "outputs": [],
   "source": [
    "def report(true, pred):\n",
    "    # binary classification returns a matrix with shape (X,1),\n",
    "    # multiclass returns shape (X,5)\n",
    "    if pred.shape[1] == 1:\n",
    "        pred_converted = [0 if p < 0.5 else 1 for p in pred]\n",
    "    else:\n",
    "        pred_converted = np.argmax(pred, axis=1)\n",
    "        \n",
    "    print(classification_report(true, pred_converted))\n",
    "    \n",
    "    return \n",
    "        "
   ]
  },
  {
   "cell_type": "code",
   "execution_count": 35,
   "metadata": {},
   "outputs": [
    {
     "name": "stdout",
     "output_type": "stream",
     "text": [
      "              precision    recall  f1-score   support\n",
      "\n",
      "           0       0.76      0.78      0.77        83\n",
      "           1       0.58      0.67      0.62        87\n",
      "           2       0.64      0.61      0.62        76\n",
      "           3       0.72      0.69      0.71       101\n",
      "           4       0.91      0.84      0.87        86\n",
      "\n",
      "    accuracy                           0.72       433\n",
      "   macro avg       0.72      0.72      0.72       433\n",
      "weighted avg       0.72      0.72      0.72       433\n",
      "\n"
     ]
    }
   ],
   "source": [
    "report(Ytest_mult, predictions)"
   ]
  }
 ],
 "metadata": {
  "accelerator": "GPU",
  "colab": {
   "collapsed_sections": [],
   "name": "embed_lstm.ipynb",
   "private_outputs": true,
   "provenance": [],
   "toc_visible": true
  },
  "kernelspec": {
   "display_name": "Python 3",
   "language": "python",
   "name": "python3"
  },
  "language_info": {
   "codemirror_mode": {
    "name": "ipython",
    "version": 3
   },
   "file_extension": ".py",
   "mimetype": "text/x-python",
   "name": "python",
   "nbconvert_exporter": "python",
   "pygments_lexer": "ipython3",
   "version": "3.7.3"
  }
 },
 "nbformat": 4,
 "nbformat_minor": 1
}
