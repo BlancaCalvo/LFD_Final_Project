{
 "cells": [
  {
   "cell_type": "markdown",
   "metadata": {
    "colab_type": "text",
    "id": "13ymSU11WvDa"
   },
   "source": [
    "## Import"
   ]
  },
  {
   "cell_type": "code",
   "execution_count": 1,
   "metadata": {
    "colab": {},
    "colab_type": "code",
    "id": "z2fl8SDXXT00"
   },
   "outputs": [],
   "source": [
    "# this is for google colab\n",
    "#from google.colab import drive\n",
    "#drive.mount('/content/drive')"
   ]
  },
  {
   "cell_type": "code",
   "execution_count": 2,
   "metadata": {
    "colab": {},
    "colab_type": "code",
    "id": "DqaHYo_UWvDc"
   },
   "outputs": [
    {
     "name": "stderr",
     "output_type": "stream",
     "text": [
      "Using TensorFlow backend.\n"
     ]
    }
   ],
   "source": [
    "import os \n",
    "\n",
    "# tool_path = \"/content/drive/Shared drives/Shared Task SentiMix/tools\"\n",
    "\n",
    "# import tools\n",
    "\n",
    "# import tools.baseline as bt\n",
    "# import tools.data as data_tools\n",
    "import numpy as np\n",
    "import pandas as pd\n",
    "\n",
    "from sklearn.metrics import classification_report\n",
    "from gensim.models import Word2Vec, KeyedVectors\n",
    "from sklearn.preprocessing import LabelBinarizer\n",
    "from sklearn.metrics import accuracy_score\n",
    "from sklearn.model_selection import train_test_split\n",
    "\n",
    "import keras\n",
    "from keras.models import Sequential\n",
    "from keras.layers.core import Dense, Activation\n",
    "from keras.optimizers import SGD\n",
    "from keras.preprocessing.sequence import pad_sequences\n",
    "from keras.preprocessing.text import Tokenizer\n",
    "from keras.layers import Embedding, Bidirectional, Dropout\n",
    "from keras.utils import to_categorical\n",
    "from keras.models import Model, Input\n",
    "from keras.optimizers import Adam\n",
    "from collections import defaultdict\n",
    "import json\n",
    "\n",
    "from keras.layers import *\n"
   ]
  },
  {
   "cell_type": "code",
   "execution_count": 3,
   "metadata": {},
   "outputs": [],
   "source": [
    "def read_corpus(corpus_file):\n",
    "    \"\"\"read input document and return the textual articles\n",
    "    and either the bias or hyperpartisan label\"\"\"\n",
    "\n",
    "    with open(corpus_file) as json_file:\n",
    "        data = json.load(json_file)\n",
    "\n",
    "    data = pd.DataFrame(data)\n",
    "    documents = data.text\n",
    "    labels_bin = data.hyperp\n",
    "    labels_mult = data.bias\n",
    "\n",
    "\n",
    "    return documents, labels_bin, labels_mult"
   ]
  },
  {
   "cell_type": "markdown",
   "metadata": {},
   "source": [
    "## Import Data"
   ]
  },
  {
   "cell_type": "code",
   "execution_count": 4,
   "metadata": {},
   "outputs": [],
   "source": [
    "X, Y_bin, Y_mult = read_corpus('tokenized_with_NUM.json')"
   ]
  },
  {
   "cell_type": "code",
   "execution_count": 5,
   "metadata": {},
   "outputs": [],
   "source": [
    "Xtrain, Xtest, Ytrain_bin, Ytest_bin, Ytrain_mult, Ytest_mult = train_test_split(X, \n",
    "                                                Y_bin, \n",
    "                                                Y_mult, \n",
    "                                                test_size = 0.2,\n",
    "                                                stratify = Y_bin)"
   ]
  },
  {
   "cell_type": "code",
   "execution_count": 6,
   "metadata": {
    "colab": {},
    "colab_type": "code",
    "id": "HuAJJFJmWvDm"
   },
   "outputs": [],
   "source": [
    "toki = Tokenizer()\n",
    "toki.fit_on_texts(Xtrain)"
   ]
  },
  {
   "cell_type": "code",
   "execution_count": 7,
   "metadata": {
    "colab": {},
    "colab_type": "code",
    "id": "A4mEdrNxWvDq"
   },
   "outputs": [],
   "source": [
    "Xtrain_seq = toki.texts_to_sequences(Xtrain)\n",
    "Xtest_seq = toki.texts_to_sequences(Xtest)"
   ]
  },
  {
   "cell_type": "code",
   "execution_count": 8,
   "metadata": {
    "colab": {},
    "colab_type": "code",
    "id": "2fLPNbFAWvDt"
   },
   "outputs": [
    {
     "name": "stdout",
     "output_type": "stream",
     "text": [
      "[[17471, 31, 99, 5645, 756, 24, 3638, 958, 2, 34, 39, 196, 586, 4, 909, 81, 4771, 6, 23562, 24, 14395, 16, 148, 16, 1839, 81, 1557, 16, 23563, 1783, 12, 1, 17472, 5, 1, 1784, 8, 659, 4, 1, 10847, 8, 1, 1473, 9, 1966, 5390, 851, 2, 3, 5948, 4, 17473, 5, 4043, 2713, 3, 13, 23564, 42, 31, 2, 3, 231, 23, 7, 286, 321, 1097, 210, 52, 125, 1865, 74, 4043, 1736, 3331, 17474, 5, 4043, 1736, 5645, 756, 6, 81, 4771, 3, 198, 8, 1966, 5390, 68, 23, 713, 5, 4044, 5176, 2, 1866, 3250, 5, 4043, 1736, 377, 80, 66, 31, 12312, 5, 3331, 2, 4043, 1736, 64, 1815, 4962, 170, 6634, 6, 12313, 65, 17, 1933, 2358, 7041, 6, 17475, 86, 5, 1, 4962, 10, 64, 25, 634, 24, 4043, 1736, 4, 2714, 23, 36, 182, 3, 26, 30, 9, 20, 23565, 3, 1, 112, 948, 12314, 7042, 8822, 4, 2714, 19, 77, 2216, 3897, 703, 7519, 2, 8823, 23566, 2, 14396, 2, 23567, 2, 6, 14397, 3, 26, 30, 9, 20, 23568, 3, 7, 12314, 7042, 1934, 19, 4044, 6, 7520, 10, 2715, 2133, 14397, 8, 2714, 3, 26, 30, 9, 20, 23569, 3, 23570, 1737, 8822, 24, 4044, 4, 2714, 2, 529, 220, 17476, 3897, 2, 34, 35, 115, 719, 2659, 1098, 2, 7, 12315, 2, 7519, 42, 12316, 3, 26, 30, 9, 20, 23571, 3, 7, 23572, 1934, 19, 7520, 10, 64, 719, 2311, 5949, 66, 7, 696, 2359, 5391, 127, 7521, 6, 72, 64, 25, 7, 581, 12, 65, 17, 5646, 7043, 1319, 4043, 1736, 6, 1, 7041, 1099, 17, 15, 72, 12317, 81, 1492, 252, 127, 7, 23573, 2, 1140, 8, 1, 1614, 5, 1, 6635, 2, 173, 4043, 1736, 2, 11, 6636, 88, 1, 1966, 4045, 31, 99, 11, 1, 1966, 4045, 7, 498, 5, 4280, 252, 2, 1, 1709, 5, 1, 252, 8, 1, 1966, 4045, 11, 1374, 4, 1, 3768, 5, 61, 1901, 478, 32, 23574, 8824, 6, 1, 1192, 4, 1, 323, 5, 91, 122, 4, 1, 48, 329, 1784, 193, 2, 1, 1966, 4045, 868, 6637, 1, 252, 1709, 1141, 12, 7041, 15, 11, 72, 2931, 24, 278, 1535, 10, 7, 739, 2833, 5, 12314, 4464, 11, 24, 14398, 949, 2, 51, 11, 386, 39, 64, 375, 19, 5177, 74, 73, 81, 6634, 561, 3, 13, 31, 8825, 81, 1492, 17, 17477, 2, 2312, 1736, 2, 7522, 1736, 42, 77, 5392, 2455, 1935, 17471, 6, 258, 3, 408, 1, 1966, 2771, 246, 3, 23575], [1, 4465, 950, 14399, 1, 524, 729, 4, 1, 9714, 5, 23576, 1936, 16, 33, 1436, 4, 7523, 6, 8107, 1, 524, 4465, 950, 5178, 341, 740, 1343, 18, 2549, 14, 115, 9, 73, 9, 267, 2, 22, 7, 97, 71, 106, 5, 1, 9, 2, 9, 42, 79, 9715, 54, 4156, 751, 23577, 5, 198, 112, 54, 19, 163, 9716, 2, 6, 1, 3769, 627, 5, 12318, 50, 4, 17478, 2, 1866, 8826, 170, 1, 12319, 17479, 5, 1, 17480, 6, 1, 1291, 4623, 1474, 5, 1, 9715, 69, 18, 757, 112, 6284, 50, 32, 3332, 10848, 5, 7, 1045, 5179, 4465, 950, 18, 10, 15, 18, 2217, 16, 2606, 5950, 5, 2134, 19, 1, 118, 168, 42, 104, 19, 1, 128, 805, 2, 51, 7524, 11, 4157, 1967, 19, 3015, 6, 1, 168, 8, 1, 456, 12, 134, 9717, 14400, 17, 341, 4466, 15, 714, 23578, 10, 17481, 4, 7, 2550, 4465, 950, 11, 7, 112, 3091, 784, 5, 155, 1936, 2, 23579, 14401, 19, 5179, 4963, 2, 3092, 4772, 6, 7, 4964, 4, 8827, 10849, 19, 2607, 2, 16, 148, 17482, 44, 41, 4, 16, 4281, 7, 1437, 16, 299, 1816, 4, 183, 8828, 697, 12, 9, 267, 11, 7, 12320, 6, 12321, 2, 7, 2065, 247, 9718, 10850, 17, 7525, 4467, 16, 44, 613, 2313, 4624, 6285, 4465, 9715, 14402, 664, 9719, 44, 440, 8, 9, 1, 118, 3093, 8, 23580, 959, 16, 32, 3332, 8108, 5, 10851, 440, 12322, 180, 19, 180, 220, 3540, 7044, 69, 18, 2314, 123, 44, 2266, 2, 12323, 155, 492, 8, 1151, 8109, 330, 2134, 5, 1, 1785, 1160, 35, 7526, 2, 3541, 3333, 6638, 2, 6, 472, 388, 730, 7, 155, 2716, 12, 1536, 4965, 8, 7, 4158, 10, 49, 27, 57, 10852, 220, 1, 950, 1, 452, 64, 5393, 76, 124, 1615, 2, 22, 317, 8, 1, 549, 780, 141, 5647, 7527, 1, 1785, 6, 155, 5648, 1840, 19, 4966, 17483, 4468, 1817, 3, 9720, 3, 5951, 134, 9721, 19, 1, 950, 613, 2, 17484, 17485, 32, 280, 10, 32, 14403, 18, 8829, 1320, 19, 37, 1710, 342, 6, 1409, 11, 6286, 840, 8, 1, 118, 168, 2, 34, 99, 16, 7, 3176, 10, 211, 31, 8830, 1, 721, 5, 12324, 1, 14404, 5, 1, 950, 287, 764, 42, 31, 2, 141, 5649, 8, 3541, 959, 493, 24, 1, 950, 6, 12325, 616, 760, 739, 4, 1711, 740, 1343, 2, 132, 266, 157, 1867, 4, 212, 1, 1937, 2660, 5, 1, 524, 65, 82, 1, 437, 5, 33, 4625, 627, 5, 9, 90, 17, 76, 212, 8, 5180, 740, 841, 964, 14405, 4, 12326, 1012, 4, 14406, 107, 3770, 45, 54, 14, 950, 124, 7, 659, 12327, 3, 310, 3, 141, 3, 13, 6287, 4, 3094, 17, 1303, 8831, 2932, 5, 1936, 19, 1, 524, 65, 22, 32, 190, 97, 16, 1, 740, 5394, 18, 6639, 2, 1438, 18, 4156, 7, 8832, 5, 46, 5179, 770, 10, 29, 57, 14407, 9722, 19, 141, 4, 408, 1, 2267, 729, 5, 532, 96, 105, 14, 1, 5650, 5, 7528, 6, 8, 3095, 1321, 5, 176, 12328, 4468, 1, 23581, 23582, 12, 23583, 29, 57, 219, 16, 7, 2772, 19, 341, 841, 12, 8110, 1, 1902, 5, 697, 4, 1438, 6, 130, 10, 557, 7529, 4, 1968, 1, 761, 5, 8111, 375, 1616, 19, 141, 2, 179, 1000, 176, 704, 6, 4282, 12329, 130, 1, 212, 5, 9, 27, 7530, 1818, 4283, 14, 1, 2267, 729, 5, 1438, 6, 1223, 132, 7045, 2, 7, 17486, 5952, 12, 32, 4773, 3898, 2, 5953, 2, 12330, 729, 8, 124, 7, 2268, 2, 1, 280, 10, 4626, 29, 14408, 17, 69, 6288, 15, 8112, 2, 104, 66, 8833, 2, 11, 4, 25, 349, 104, 66, 31, 8, 8113, 17, 235, 2773, 131, 7, 722, 2500, 4627, 5, 1438, 2, 14409, 12331, 2, 29, 479, 1070, 7, 14410, 17487, 24, 1, 931, 1292, 5, 7531, 12332, 341, 14411, 2, 3, 14, 1438, 6, 1, 3251, 5, 1, 3771, 3, 12331, 2175, 37, 6289, 17, 113, 5395, 1292, 36, 3, 39, 1424, 990, 10, 1, 6290, 8834, 5, 697, 42, 1, 482, 4, 1589, 697, 8, 1617, 784, 11, 301, 187, 1270, 5, 141, 3, 13, 1410, 2, 12333, 2, 6, 2717, 8, 638, 2, 6, 2, 1475, 2, 125, 25, 2933, 16, 33, 23584, 2, 104, 7, 17488, 246, 3, 34, 69, 39, 8, 1438, 64, 31, 10853, 11, 36, 210, 15, 11, 852, 4, 1257, 3, 3, 22, 1, 488, 5, 12318, 2, 14409, 12331, 1687, 4, 1, 118, 4, 1108, 74, 117, 69, 28, 884, 3, 14412, 5396, 3, 3, 19, 9723, 1, 4159, 420, 152, 19, 524, 771, 1071, 3], [112, 164, 1344, 226, 1391, 22, 44, 513, 102, 305, 10, 35, 49, 292, 973, 3334, 23585, 596, 393, 32, 80, 2, 366, 86, 21, 44, 425, 49, 14413, 14, 287, 1178, 2608, 74, 8, 587, 336, 1, 698, 384, 12, 192, 3418, 11, 287, 1, 270, 4160, 9724, 8, 541, 1439, 11, 2661, 42, 287, 15, 3639, 17489, 2834, 2, 122, 4, 1358, 5, 1, 525, 279, 59, 1590, 457, 513, 106, 226, 22, 1, 513, 1391, 15, 18, 1, 236, 66, 15, 59, 31, 2, 86, 3252, 15, 49, 719, 101, 4, 17490, 1, 2100, 1614, 5, 542, 1439, 183, 284, 231, 1, 1358, 54, 647, 263, 73, 1, 3419, 8835, 8836, 350, 226, 21, 44, 425, 14, 187, 542, 398, 32, 80, 92, 49, 6640, 5651, 14, 287, 1, 242, 385, 8, 587, 336, 900, 44, 2218, 10, 1178, 18, 1246, 74, 730, 1, 259, 59, 23586, 9, 119, 5954, 78, 92, 15, 18, 840, 10, 86, 6291, 8, 3542, 192, 12334, 110, 7046, 4046, 8, 1178, 18, 6641, 2, 78, 1, 1358, 21, 410, 2, 241, 2, 54, 2405, 10, 1331, 201, 14, 1375, 368, 596, 261, 233, 87, 483, 4, 7, 3543, 8, 1178, 10, 49, 25, 901, 4, 375, 260, 2934, 582, 464, 4, 44, 1247, 2, 1, 1358, 21, 1178, 82, 1, 991, 9, 336, 29, 499, 3016, 22, 56, 119, 12, 1, 278, 179, 336, 2, 122, 4, 1, 676, 59, 3096, 735, 182, 1, 676, 951, 596, 8, 495, 4, 7, 1193, 5, 170, 9, 119, 6, 56, 119, 1179, 8, 7047, 14, 1590, 9, 2, 676, 5652, 6292, 5397, 8114, 10, 2662, 1178, 1819, 7, 92, 8115, 78, 609, 83, 1133, 4, 10854, 187, 9, 542, 357, 2, 83, 152, 484, 83, 18, 465, 4, 1992, 95, 1258, 92, 39, 41, 3544, 3097, 385, 2135, 6, 1108, 1903, 4, 12335, 81, 1493, 526, 14, 69, 39, 1271, 2, 78, 83, 21, 86, 226, 27, 21, 35, 194, 351, 677, 14, 1331, 201, 14, 187, 398, 403, 1178, 2608, 74, 393, 399, 263, 2, 1738, 676, 84, 2935, 5398, 21, 28, 18, 92, 7, 351, 5955, 78, 50, 1375, 596, 393, 1537, 1178, 2176, 74, 1152, 5398, 11, 7, 1639, 14, 1, 676, 59, 192, 259, 32, 80, 92, 38, 94, 222, 307, 194, 109, 1868, 8, 1993, 731, 98, 4, 157, 47, 378, 5, 1, 1178, 853, 2, 78, 28, 136, 33, 2066, 8, 9725, 4047, 676, 84, 1573, 10855, 2, 187, 1639, 2, 29, 72, 21, 28, 4774, 17491, 50, 187, 542, 398, 32, 80, 410, 2, 241, 2, 124, 16, 48, 223, 59, 1904, 8116, 6, 623, 1574, 500, 364, 2501, 23, 2456, 1178, 41, 398, 74, 6, 23, 1538, 4, 398, 393, 2, 122, 4, 270, 2067, 16, 35, 27, 8, 77, 270, 2360, 2, 226, 102, 305, 2609, 75, 556, 5399, 12, 1, 743, 1178, 980, 58, 2361, 499, 10, 743, 1178, 6642, 54, 7, 2661, 5653, 10, 49, 562, 82, 97, 7, 331, 2136, 11, 10, 5400, 876, 27, 1359, 111, 691, 353, 582, 2, 51, 87, 705, 150, 23587, 15, 87, 72, 25, 10, 5956, 29, 1841, 150, 541, 5957, 8, 1120, 10, 23, 901, 4, 990, 92, 15, 18, 840, 10, 77, 2457, 2718, 54, 72, 4156, 743, 1178, 2, 51, 272, 1905, 10, 948, 316, 2137, 87, 25, 4775, 4, 1, 17492, 5, 23588, 1178, 8, 1, 128, 114, 6, 2883, 2, 78, 1, 1358, 21, 61, 8, 61, 2, 1, 1358, 3640, 226, 27, 301, 4, 1161, 7, 1739, 14, 1178, 2, 51, 87, 1494, 4, 1, 2362, 2138, 2835, 192, 8, 1, 336, 952, 226, 8, 854, 72, 1162, 4, 6293, 201, 1, 23589, 391, 5, 5654, 1, 676, 59, 53, 56, 1440, 3420, 1, 398, 55, 57, 3335, 12, 336, 6, 1223, 76, 344, 213, 2315, 2, 16, 226, 55, 3253, 669, 92, 752, 4, 27, 7, 484, 1969, 5, 1, 259, 59, 1001, 1235, 12, 7, 7048, 7049, 5, 1, 1970, 5, 1, 164, 1344, 59, 1591, 4161, 2, 78, 1, 1358, 21, 43, 212, 40, 1293, 922, 3017, 910, 9, 2, 9, 9, 36, 9, 1820, 43, 9, 36, 9, 2363, 40], [7, 177, 7532, 45, 522, 369, 65, 8, 7, 2316, 4469, 765, 2774, 8, 9, 3177, 1322, 4, 164, 798, 8, 5181, 14, 263, 10856, 539, 533, 1248, 3018, 21, 263, 10, 501, 92, 17493, 78, 23590, 3177, 1322, 4, 96, 3899, 5, 10857, 2775, 8, 440, 3, 58, 12, 3098, 6294, 12336, 17494, 6, 1, 77, 12, 23591, 911, 5, 178, 28, 11, 4, 25, 3421, 4, 299, 8, 740, 22, 33, 981, 869, 28, 1180, 3177, 1322, 8, 70, 158, 4, 1495, 8, 1, 14414, 5, 37, 1046, 6, 23592, 8, 14415, 2, 14416, 37, 7533, 2, 14417, 23593, 2, 3177, 1322, 4, 164, 798, 102, 305, 6, 41, 1360, 7, 299, 2406], [115, 9, 2, 9, 19, 1869, 3772, 8, 1, 508, 1088, 2, 68, 23, 61, 3422, 5, 772, 10, 7534, 1712, 2, 1786, 2, 877, 5, 368, 6, 3423, 206, 5, 4162, 1013, 35, 115, 31, 600, 25, 7535, 2, 34, 8, 1, 23594, 291, 2, 35, 23, 1737, 621, 1870, 8, 1, 116, 1088, 2, 68, 23, 61, 3422, 5, 773, 6, 1688, 10, 23, 1496, 4, 1345, 113, 190, 926, 2, 34, 35, 23, 2936, 6, 1618, 68, 23, 773, 6, 1688, 10, 909, 3019, 6, 9726, 3900, 3020, 3545, 23, 3254, 2, 34, 38, 4284, 4, 113, 369, 36, 15, 330, 7, 1272, 19, 1060, 5, 601, 8, 799, 992, 4, 139, 1, 1027, 1181, 4776, 296, 413, 4, 1194, 9723, 7, 9, 70, 131, 10, 1640, 1361, 1713, 25, 202, 5, 3336, 23595, 8, 1, 190, 296, 413, 2, 7536, 2610, 4, 229, 201, 7, 14418, 3336, 45, 676, 23596, 4, 14419, 108, 35, 461, 3, 60, 174, 15, 18, 478, 44, 870, 4, 964, 4967, 126, 8, 1, 178, 116, 610, 3, 1392, 255, 2, 1, 3255, 84, 5, 1, 432, 2, 5182, 453, 2, 11, 1, 190, 1938, 45, 11, 1, 572, 1100, 84, 5, 1, 178, 4777, 5, 766, 2611, 2, 38, 2612, 210, 4285, 29, 3424, 79, 23597, 12, 79, 233, 51, 3178, 91, 4, 178, 3, 13, 8837, 296, 413, 73, 17495, 2, 623, 1906, 4776, 1, 623, 1906, 271, 2771, 2139, 912, 7, 171, 102, 175, 10, 840, 61, 1, 462, 1120, 1, 413, 29, 219, 3546, 842, 4, 2719, 1224, 1012, 6, 982, 8, 1641, 8, 7537, 8117, 5, 70, 131, 32, 11, 24, 7, 12337, 623, 1906, 394, 36, 3, 237, 1, 12337, 240, 102, 80, 5183, 7, 413, 913, 5958, 4, 1060, 17, 1, 1172, 480, 3, 135, 140, 1497, 902, 3, 195, 2140, 9, 2, 3, 7, 885, 19, 9727, 1689, 2, 7538, 1906, 2, 5959, 1, 1871, 42, 5960, 5, 413, 1072, 1, 394, 72, 1558, 22, 1, 413, 3, 13, 514, 463, 387, 379, 2, 7, 983, 10, 2269, 903, 4, 1225, 44, 1907, 42, 1014, 8838, 1592, 101, 4, 597, 6643, 736, 12, 992, 15, 72, 2884, 4, 3337, 6295, 12, 96, 181, 1439, 3, 187, 394, 5183, 296, 432, 84, 364, 2068, 5398, 3, 206, 5, 37, 413, 913, 4, 12338, 7, 154, 678, 17, 1, 744, 3, 13, 296, 432, 1872, 4, 2551, 12, 1, 2219, 5, 96, 181, 1439, 2, 8118, 9, 6, 2776, 3, 34, 16, 38, 1509, 75, 8, 33, 2502, 2, 623, 1906, 4776, 29, 253, 1593, 1, 670, 10, 15, 335, 206, 3546, 1013, 2937, 3, 102, 80, 2, 33, 533, 12, 1, 296, 413, 21, 23598, 1273, 6, 7, 983, 5961, 2219, 5, 7, 70, 145, 54, 3901, 370, 79, 132, 12, 70, 1539, 3, 1821, 648, 10, 15, 11, 1047, 4, 3, 206, 1, 116, 1873, 4, 974, 33, 1594, 4, 1, 300, 4, 2613, 44, 23599, 3, 3, 68, 3, 13, 1, 131, 5, 1, 70, 5, 178, 2, 6, 163, 1, 58, 4048, 1, 623, 1906, 4776, 296, 413, 10, 3099, 131, 2720, 4, 2, 3, 39, 94, 69, 39, 239, 2, 6, 66, 52, 208, 3, 60, 103, 15, 2, 1842, 23600, 3, 3, 66, 32, 4968, 4470, 103, 1141, 454, 23601, 639, 2, 14420, 623, 1906, 4776, 3, 13, 23602, 2141, 454, 29, 46, 23603, 5401, 88, 369, 5, 1, 426, 296, 432, 302, 1, 773, 5, 1, 70, 98, 208, 3, 60, 2317, 2, 113, 302, 23604, 2101, 3, 98, 1, 773, 16, 1690, 19, 1, 14421, 5, 23605]]\n"
     ]
    }
   ],
   "source": [
    "print(Xtrain_seq[:5])"
   ]
  },
  {
   "cell_type": "code",
   "execution_count": 9,
   "metadata": {
    "colab": {},
    "colab_type": "code",
    "id": "Rvn7NZ_iWvDy"
   },
   "outputs": [],
   "source": [
    "word2index = toki.word_index\n",
    "word2index['PAD'] = 0"
   ]
  },
  {
   "cell_type": "code",
   "execution_count": 10,
   "metadata": {
    "colab": {},
    "colab_type": "code",
    "id": "Mb3fIeqnWvD2"
   },
   "outputs": [
    {
     "name": "stdout",
     "output_type": "stream",
     "text": [
      "PAD\n"
     ]
    }
   ],
   "source": [
    "index2word = toki.index_word\n",
    "index2word[0] = 'PAD'\n",
    "print(index2word[0])"
   ]
  },
  {
   "cell_type": "code",
   "execution_count": 11,
   "metadata": {
    "colab": {},
    "colab_type": "code",
    "id": "bQfOn7v3WvD5"
   },
   "outputs": [
    {
     "name": "stdout",
     "output_type": "stream",
     "text": [
      "3157 600.5565819861432\n"
     ]
    }
   ],
   "source": [
    "#get max length of words\n",
    "\n",
    "lens = [len(text) for text in Xtrain]\n",
    "\n",
    "max_article_len = max(lens)\n",
    "mean_article_len = np.mean(lens)\n",
    "print(max_article_len, mean_article_len)\n",
    "\n",
    "max_len = 1000"
   ]
  },
  {
   "cell_type": "code",
   "execution_count": 12,
   "metadata": {
    "colab": {},
    "colab_type": "code",
    "id": "MLSlD2KSWvD9"
   },
   "outputs": [],
   "source": [
    "#pre-pad the tweets with value 0\n",
    "# that is prepadding (Louis so you understand as well)\n",
    "Xtrain_pad = pad_sequences(Xtrain_seq, maxlen = max_len)\n",
    "Xtest_pad = pad_sequences(Xtest_seq, maxlen = max_len)"
   ]
  },
  {
   "cell_type": "markdown",
   "metadata": {},
   "source": [
    "### Labels"
   ]
  },
  {
   "cell_type": "code",
   "execution_count": 13,
   "metadata": {
    "colab": {},
    "colab_type": "code",
    "id": "_0EbZrlOWvEA"
   },
   "outputs": [
    {
     "data": {
      "text/plain": [
       "76      False\n",
       "1290    False\n",
       "1943     True\n",
       "Name: hyperp, dtype: bool"
      ]
     },
     "execution_count": 13,
     "metadata": {},
     "output_type": "execute_result"
    }
   ],
   "source": [
    "Ytrain_bin[:3]"
   ]
  },
  {
   "cell_type": "code",
   "execution_count": 14,
   "metadata": {},
   "outputs": [],
   "source": [
    "Ytrain_bin = np.asarray([0. if l == False else 1. for l in Ytrain_bin])\n",
    "Ytest_bin = np.asarray([0. if l == False else 1. for l in Ytest_bin])"
   ]
  },
  {
   "cell_type": "code",
   "execution_count": 15,
   "metadata": {},
   "outputs": [],
   "source": [
    "# Ytrain_bin = to_categorical(Ytrain_bin)\n",
    "# Ytest_bin = to_categorical(Ytest_bin)"
   ]
  },
  {
   "cell_type": "code",
   "execution_count": 16,
   "metadata": {},
   "outputs": [
    {
     "data": {
      "text/plain": [
       "array([0., 1., 1.])"
      ]
     },
     "execution_count": 16,
     "metadata": {},
     "output_type": "execute_result"
    }
   ],
   "source": [
    "Ytest_bin[:3]"
   ]
  },
  {
   "cell_type": "code",
   "execution_count": 17,
   "metadata": {},
   "outputs": [],
   "source": [
    "mult_labels = set(Ytrain_mult)"
   ]
  },
  {
   "cell_type": "code",
   "execution_count": 18,
   "metadata": {
    "colab": {},
    "colab_type": "code",
    "id": "EwsprURhWvEE"
   },
   "outputs": [
    {
     "name": "stdout",
     "output_type": "stream",
     "text": [
      "defaultdict(None, {'least': 0, 'left': 1, 'right-center': 2, 'right': 3, 'left-center': 4})\n"
     ]
    }
   ],
   "source": [
    "label_dict = defaultdict()\n",
    "for i, l in enumerate(mult_labels):\n",
    "    label_dict[l] = i\n",
    "    \n",
    "print(label_dict)"
   ]
  },
  {
   "cell_type": "code",
   "execution_count": 19,
   "metadata": {
    "colab": {},
    "colab_type": "code",
    "id": "tYe73g-nWvEH"
   },
   "outputs": [],
   "source": [
    "Ytrain_mult = [label_dict[label] for label in Ytrain_mult]\n",
    "Ytest_mult = [label_dict[label] for label in Ytest_mult] \n",
    "\n",
    "# this is now a list of numbers"
   ]
  },
  {
   "cell_type": "code",
   "execution_count": 20,
   "metadata": {
    "colab": {},
    "colab_type": "code",
    "id": "FCX_ktnIWvEL"
   },
   "outputs": [],
   "source": [
    "no_cls = len(label_dict)\n",
    "\n",
    "Ytrain_mult_cat = np.asarray([to_categorical(label, num_classes = no_cls) for label in Ytrain_mult])\n",
    "Ytest_mult_cat = np.asarray([to_categorical(label, num_classes = no_cls) for label in Ytest_mult])"
   ]
  },
  {
   "cell_type": "code",
   "execution_count": 21,
   "metadata": {
    "colab": {},
    "colab_type": "code",
    "id": "cFn4e9NsWvES"
   },
   "outputs": [
    {
     "name": "stdout",
     "output_type": "stream",
     "text": [
      "Shape of data tensor: (1732, 2000)\n",
      "Shape of binary label tensor: (1732,)\n",
      "Shape of multilabel tensor: (1732, 5)\n"
     ]
    }
   ],
   "source": [
    "print('Shape of data tensor:', Xtrain_pad.shape)\n",
    "print('Shape of binary label tensor:', Ytrain_bin.shape)\n",
    "print('Shape of multilabel tensor:', Ytrain_mult_cat.shape)"
   ]
  },
  {
   "cell_type": "markdown",
   "metadata": {
    "colab_type": "text",
    "id": "2ny9O1CCWvEV"
   },
   "source": [
    "### Prepare the Embedding Layer"
   ]
  },
  {
   "cell_type": "code",
   "execution_count": 22,
   "metadata": {
    "colab": {},
    "colab_type": "code",
    "id": "3aMXU3exWvEW"
   },
   "outputs": [],
   "source": [
    "w2v_path = 'data/GoogleNews-vectors-negative300.bin'\n",
    "embeddings = Word2Vec.load('model_all.bin')\n",
    "embed_len = 100\n",
    "\n",
    "\n",
    "#embed_w2v = KeyedVectors.load_word2vec_format(w2v_path, binary=True)"
   ]
  },
  {
   "cell_type": "code",
   "execution_count": 23,
   "metadata": {
    "colab": {},
    "colab_type": "code",
    "id": "FV5k0356WvEZ"
   },
   "outputs": [],
   "source": [
    "#w = filter(lambda x: x in model.vocab, list(model.wv.vocab))\n",
    "#print model.most_similar(positive=w)\n",
    "\n",
    "def load_embeddings(model, i2w, embed_len):\n",
    "    \n",
    "    index2embed = dict()\n",
    "    w = filter(lambda x: x in word2index.keys(), list(embeddings.wv.vocab))\n",
    "\n",
    "    for i, w in i2w.items():\n",
    "        try:\n",
    "            embed = model[w]\n",
    "        except KeyError:\n",
    "            embed = np.zeros(embed_len)\n",
    "            #embed = embeddings.most_similar(positive=w)\n",
    "        index2embed[i] = embed\n",
    "    \n",
    "    return index2embed\n",
    "\n",
    "def load_w2v(model,i2w):\n",
    "    index2emb = dict()\n",
    "    \n",
    "    for i, w in i2w.items():\n",
    "        try:\n",
    "            embed = model[w]\n",
    "        except KeyError:\n",
    "            embed = model['UNK']\n",
    "            #embed = embeddings.most_similar(positive=w)\n",
    "        index2embed[i] = embed\n",
    "    \n",
    "    return index2embed\n"
   ]
  },
  {
   "cell_type": "code",
   "execution_count": 24,
   "metadata": {},
   "outputs": [
    {
     "name": "stderr",
     "output_type": "stream",
     "text": [
      "/usr/local/lib/python3.7/dist-packages/ipykernel_launcher.py:11: DeprecationWarning: Call to deprecated `__getitem__` (Method will be removed in 4.0.0, use self.wv.__getitem__() instead).\n",
      "  # This is added back by InteractiveShellApp.init_path()\n"
     ]
    }
   ],
   "source": [
    "#index2embed = loadw2v(embed_w2v, index2word)\n",
    "index2embed = load_embeddings(embeddings, index2word, embed_len)"
   ]
  },
  {
   "cell_type": "code",
   "execution_count": 25,
   "metadata": {
    "colab": {},
    "colab_type": "code",
    "id": "IRT4gSxcWvEc"
   },
   "outputs": [],
   "source": [
    "#compute embedding matrix\n",
    "\n",
    "embedding_matrix = np.zeros((len(word2index) + 1, embed_len))\n",
    "for word, i in word2index.items():\n",
    "    embedding_vector = index2embed[i]\n",
    "    if embedding_vector is not None:\n",
    "        # words not found in embedding index will be all-zeros.\n",
    "        embedding_matrix[i] = embedding_vector"
   ]
  },
  {
   "cell_type": "code",
   "execution_count": 26,
   "metadata": {
    "colab": {},
    "colab_type": "code",
    "id": "46WMiWTgWvEf"
   },
   "outputs": [],
   "source": [
    "#load embedding matrix into embedding layer\n",
    "\n",
    "\n",
    "embedding_layer = Embedding(len(word2index) + 1,\n",
    "                            embed_len,\n",
    "                            weights=[embedding_matrix],\n",
    "                            input_length=max_len,\n",
    "                            trainable=False)"
   ]
  },
  {
   "cell_type": "markdown",
   "metadata": {
    "colab_type": "text",
    "id": "r7rdB0cnWvEi"
   },
   "source": [
    "### Building the classifier - CNN"
   ]
  },
  {
   "cell_type": "code",
   "execution_count": 27,
   "metadata": {
    "colab": {},
    "colab_type": "code",
    "id": "NrC_iXLNWvEk"
   },
   "outputs": [],
   "source": [
    "lr = 0.001\n",
    "batch = 256\n",
    "#embed_len = 100\n",
    "activation = 'relu'\n",
    "activation_output = 'softmax'\n",
    "loss_function = 'categorical_crossentropy'\n",
    "loss_bin = 'binary_crossentropy'\n",
    "\n",
    "from keras.layers import Conv1D, GlobalMaxPool1D"
   ]
  },
  {
   "cell_type": "code",
   "execution_count": 28,
   "metadata": {},
   "outputs": [],
   "source": [
    "filters = 250\n",
    "kernel_size = 3"
   ]
  },
  {
   "cell_type": "code",
   "execution_count": 29,
   "metadata": {
    "colab": {},
    "colab_type": "code",
    "id": "2aZ89JiBWvEo"
   },
   "outputs": [
    {
     "name": "stdout",
     "output_type": "stream",
     "text": [
      "WARNING:tensorflow:From /usr/local/lib/python3.7/dist-packages/tensorflow/python/ops/nn_impl.py:180: add_dispatch_support.<locals>.wrapper (from tensorflow.python.ops.array_ops) is deprecated and will be removed in a future version.\n",
      "Instructions for updating:\n",
      "Use tf.where in 2.0, which has the same broadcast rule as np.where\n",
      "Model: \"model_1\"\n",
      "_________________________________________________________________\n",
      "Layer (type)                 Output Shape              Param #   \n",
      "=================================================================\n",
      "input_1 (InputLayer)         (None, 2000)              0         \n",
      "_________________________________________________________________\n",
      "embedding_1 (Embedding)      (None, 2000, 100)         4181000   \n",
      "_________________________________________________________________\n",
      "dropout_1 (Dropout)          (None, 2000, 100)         0         \n",
      "_________________________________________________________________\n",
      "conv1d_1 (Conv1D)            (None, 1998, 250)         75250     \n",
      "_________________________________________________________________\n",
      "global_max_pooling1d_1 (Glob (None, 250)               0         \n",
      "_________________________________________________________________\n",
      "dense_1 (Dense)              (None, 250)               62750     \n",
      "_________________________________________________________________\n",
      "dropout_2 (Dropout)          (None, 250)               0         \n",
      "_________________________________________________________________\n",
      "dense_2 (Dense)              (None, 1)                 251       \n",
      "=================================================================\n",
      "Total params: 4,319,251\n",
      "Trainable params: 138,251\n",
      "Non-trainable params: 4,181,000\n",
      "_________________________________________________________________\n"
     ]
    }
   ],
   "source": [
    "sequence_input = Input(shape=(max_len,), dtype='int32')\n",
    "embedded_sequences = embedding_layer(sequence_input)\n",
    "\n",
    "drop1 = Dropout(0.2)(embedded_sequences)\n",
    "\n",
    "conv1 = Conv1D(filters,\n",
    "              kernel_size,\n",
    "              padding = 'valid',\n",
    "              activation = 'relu',\n",
    "              strides = 1)(drop1)\n",
    "\n",
    "pool = GlobalMaxPool1D()(conv1)\n",
    "\n",
    "dense1 = Dense(250, activation='relu')(pool)\n",
    "drop2 = Dropout(0.2)(dense1)\n",
    "\n",
    "output = Dense(1, activation = 'sigmoid')(drop2)\n",
    "\n",
    "\n",
    "#flat = Flatten()(embedded_sequences)\n",
    "#output_1 = Dense(200, activation='relu')(flat)\n",
    "#drop = Dropout(0.4)(output_1)\n",
    "#output_2 = Dense(64, activation='relu')(output_1)\n",
    "#predictions = Dense(2, activation=activation_output)(output_2)\n",
    "\n",
    "model = Model(inputs=sequence_input, outputs=output)\n",
    "\n",
    "optimizer = Adam(lr = lr)\n",
    "\n",
    "model.compile(loss=loss_bin, optimizer=optimizer, metrics=['accuracy'])\n",
    "\n",
    "model.summary()"
   ]
  },
  {
   "cell_type": "code",
   "execution_count": 30,
   "metadata": {
    "colab": {},
    "colab_type": "code",
    "id": "50Z2bbm4WvEs"
   },
   "outputs": [
    {
     "name": "stdout",
     "output_type": "stream",
     "text": [
      "WARNING:tensorflow:From /usr/local/lib/python3.7/dist-packages/keras/backend/tensorflow_backend.py:422: The name tf.global_variables is deprecated. Please use tf.compat.v1.global_variables instead.\n",
      "\n",
      "Epoch 1/50\n",
      "1732/1732 [==============================] - 11s 6ms/step - loss: 1.9913 - accuracy: 0.5064\n",
      "Epoch 2/50\n",
      "1732/1732 [==============================] - 11s 6ms/step - loss: 1.0698 - accuracy: 0.5941\n",
      "Epoch 3/50\n",
      "1732/1732 [==============================] - 11s 7ms/step - loss: 0.9177 - accuracy: 0.5860\n",
      "Epoch 4/50\n",
      "1732/1732 [==============================] - 12s 7ms/step - loss: 0.7392 - accuracy: 0.6241\n",
      "Epoch 5/50\n",
      "1732/1732 [==============================] - 12s 7ms/step - loss: 0.6180 - accuracy: 0.6998\n",
      "Epoch 6/50\n",
      "1732/1732 [==============================] - 12s 7ms/step - loss: 0.5567 - accuracy: 0.7107\n",
      "Epoch 7/50\n",
      "1732/1732 [==============================] - 12s 7ms/step - loss: 0.4841 - accuracy: 0.7552\n",
      "Epoch 8/50\n",
      "1732/1732 [==============================] - 12s 7ms/step - loss: 0.4348 - accuracy: 0.7875\n",
      "Epoch 9/50\n",
      "1732/1732 [==============================] - 12s 7ms/step - loss: 0.4074 - accuracy: 0.7997\n",
      "Epoch 10/50\n",
      "1732/1732 [==============================] - 12s 7ms/step - loss: 0.4036 - accuracy: 0.8054\n",
      "Epoch 11/50\n",
      "1732/1732 [==============================] - 12s 7ms/step - loss: 0.3724 - accuracy: 0.8164\n",
      "Epoch 12/50\n",
      "1732/1732 [==============================] - 12s 7ms/step - loss: 0.3883 - accuracy: 0.8135\n",
      "Epoch 13/50\n",
      "1732/1732 [==============================] - 12s 7ms/step - loss: 0.3783 - accuracy: 0.8291\n",
      "Epoch 14/50\n",
      "1732/1732 [==============================] - 12s 7ms/step - loss: 0.3426 - accuracy: 0.8349\n",
      "Epoch 15/50\n",
      "1732/1732 [==============================] - 12s 7ms/step - loss: 0.3458 - accuracy: 0.8360\n",
      "Epoch 16/50\n",
      "1732/1732 [==============================] - 12s 7ms/step - loss: 0.3164 - accuracy: 0.8603\n",
      "Epoch 17/50\n",
      "1732/1732 [==============================] - 12s 7ms/step - loss: 0.2977 - accuracy: 0.8701\n",
      "Epoch 18/50\n",
      "1732/1732 [==============================] - 12s 7ms/step - loss: 0.2860 - accuracy: 0.8811\n",
      "Epoch 19/50\n",
      "1732/1732 [==============================] - 12s 7ms/step - loss: 0.2782 - accuracy: 0.8776\n",
      "Epoch 20/50\n",
      "1732/1732 [==============================] - 12s 7ms/step - loss: 0.2634 - accuracy: 0.8868\n",
      "Epoch 21/50\n",
      "1732/1732 [==============================] - 12s 7ms/step - loss: 0.2397 - accuracy: 0.9117\n",
      "Epoch 22/50\n",
      "1732/1732 [==============================] - 12s 7ms/step - loss: 0.2387 - accuracy: 0.9030\n",
      "Epoch 23/50\n",
      "1732/1732 [==============================] - 12s 7ms/step - loss: 0.2292 - accuracy: 0.9122\n",
      "Epoch 24/50\n",
      "1732/1732 [==============================] - 12s 7ms/step - loss: 0.2146 - accuracy: 0.9249\n",
      "Epoch 25/50\n",
      "1732/1732 [==============================] - 12s 7ms/step - loss: 0.2031 - accuracy: 0.9255\n",
      "Epoch 26/50\n",
      "1732/1732 [==============================] - 12s 7ms/step - loss: 0.2012 - accuracy: 0.9226\n",
      "Epoch 27/50\n",
      "1732/1732 [==============================] - 12s 7ms/step - loss: 0.1846 - accuracy: 0.9336\n",
      "Epoch 28/50\n",
      "1732/1732 [==============================] - 12s 7ms/step - loss: 0.1702 - accuracy: 0.9521\n",
      "Epoch 29/50\n",
      "1732/1732 [==============================] - 12s 7ms/step - loss: 0.1626 - accuracy: 0.9446\n",
      "Epoch 30/50\n",
      "1732/1732 [==============================] - 12s 7ms/step - loss: 0.1572 - accuracy: 0.9503\n",
      "Epoch 31/50\n",
      "1732/1732 [==============================] - 12s 7ms/step - loss: 0.1475 - accuracy: 0.9544\n",
      "Epoch 32/50\n",
      "1732/1732 [==============================] - 12s 7ms/step - loss: 0.1298 - accuracy: 0.9630\n",
      "Epoch 33/50\n",
      "1732/1732 [==============================] - 12s 7ms/step - loss: 0.1236 - accuracy: 0.9659\n",
      "Epoch 34/50\n",
      "1732/1732 [==============================] - 12s 7ms/step - loss: 0.1210 - accuracy: 0.9642\n",
      "Epoch 35/50\n",
      "1732/1732 [==============================] - 12s 7ms/step - loss: 0.1159 - accuracy: 0.9671\n",
      "Epoch 36/50\n",
      "1732/1732 [==============================] - 12s 7ms/step - loss: 0.0983 - accuracy: 0.9792\n",
      "Epoch 37/50\n",
      "1732/1732 [==============================] - 12s 7ms/step - loss: 0.0971 - accuracy: 0.9763\n",
      "Epoch 38/50\n",
      "1732/1732 [==============================] - 12s 7ms/step - loss: 0.0882 - accuracy: 0.9804\n",
      "Epoch 39/50\n",
      "1732/1732 [==============================] - 12s 7ms/step - loss: 0.0822 - accuracy: 0.9833\n",
      "Epoch 40/50\n",
      "1732/1732 [==============================] - 12s 7ms/step - loss: 0.0717 - accuracy: 0.9890\n",
      "Epoch 41/50\n",
      "1732/1732 [==============================] - 12s 7ms/step - loss: 0.0712 - accuracy: 0.9850\n",
      "Epoch 42/50\n",
      "1732/1732 [==============================] - 12s 7ms/step - loss: 0.0623 - accuracy: 0.9890\n",
      "Epoch 43/50\n",
      "1732/1732 [==============================] - 12s 7ms/step - loss: 0.0627 - accuracy: 0.9867\n",
      "Epoch 44/50\n",
      "1732/1732 [==============================] - 12s 7ms/step - loss: 0.0610 - accuracy: 0.9890\n",
      "Epoch 45/50\n",
      "1732/1732 [==============================] - 12s 7ms/step - loss: 0.0505 - accuracy: 0.9919\n",
      "Epoch 46/50\n",
      "1732/1732 [==============================] - 12s 7ms/step - loss: 0.0519 - accuracy: 0.9908\n",
      "Epoch 47/50\n",
      "1732/1732 [==============================] - 12s 7ms/step - loss: 0.0521 - accuracy: 0.9890\n",
      "Epoch 48/50\n",
      "1732/1732 [==============================] - 12s 7ms/step - loss: 0.0581 - accuracy: 0.9838\n",
      "Epoch 49/50\n",
      "1732/1732 [==============================] - 12s 7ms/step - loss: 0.0408 - accuracy: 0.9931\n",
      "Epoch 50/50\n",
      "1732/1732 [==============================] - 12s 7ms/step - loss: 0.0383 - accuracy: 0.9936\n"
     ]
    }
   ],
   "source": [
    "epochs = 50\n",
    "history = model.fit(Xtrain_pad, Ytrain_bin, batch_size=batch, epochs=epochs, verbose=1)"
   ]
  },
  {
   "cell_type": "code",
   "execution_count": 36,
   "metadata": {},
   "outputs": [
    {
     "data": {
      "image/png": "[encoded data removed]",
      "text/plain": [
       "<Figure size 432x288 with 1 Axes>"
      ]
     },
     "metadata": {
      "needs_background": "light"
     },
     "output_type": "display_data"
    }
   ],
   "source": [
    "import matplotlib.pyplot as plt\n",
    "\n",
    "# Plot training & validation accuracy values\n",
    "plt.plot(history.history['accuracy'])\n",
    "plt.plot(history.history['loss'])\n",
    "#plt.plot(history.history['val_acc'])\n",
    "plt.title('Model accuracy + loss')\n",
    "plt.ylabel('Accuracy/Loss')\n",
    "plt.xlabel('Epoch')\n",
    "plt.legend(['Acc', 'Loss'], loc='upper left')\n",
    "plt.show()\n",
    "\n",
    "# Plot training & validation loss values\n",
    "#plt.plot(history.history['loss'])\n",
    "#plt.plot(history.history['val_loss'])\n",
    "#plt.title('Model loss')\n",
    "#plt.ylabel('Loss')\n",
    "#plt.xlabel('Epoch')\n",
    "#plt.legend(['Train', 'Test'], loc='upper left')\n",
    "#plt.show()"
   ]
  },
  {
   "cell_type": "code",
   "execution_count": 37,
   "metadata": {
    "colab": {},
    "colab_type": "code",
    "id": "6hm13g7AWvEv"
   },
   "outputs": [],
   "source": [
    "predictions = model.predict(Xtest_pad)"
   ]
  },
  {
   "cell_type": "code",
   "execution_count": 38,
   "metadata": {},
   "outputs": [
    {
     "data": {
      "text/plain": [
       "array([[5.9336424e-04],\n",
       "       [7.7647746e-01],\n",
       "       [9.9992836e-01],\n",
       "       [3.5730898e-03],\n",
       "       [1.0237396e-03]], dtype=float32)"
      ]
     },
     "execution_count": 38,
     "metadata": {},
     "output_type": "execute_result"
    }
   ],
   "source": [
    "predictions[:5]"
   ]
  },
  {
   "cell_type": "code",
   "execution_count": 39,
   "metadata": {},
   "outputs": [
    {
     "data": {
      "text/plain": [
       "[0, 1, 1, 0, 0]"
      ]
     },
     "execution_count": 39,
     "metadata": {},
     "output_type": "execute_result"
    }
   ],
   "source": [
    "pred_converted = [0 if p < 0.5 else 1 for p in predictions]\n",
    "pred_converted[:5]"
   ]
  },
  {
   "cell_type": "code",
   "execution_count": 40,
   "metadata": {
    "colab": {},
    "colab_type": "code",
    "id": "qrojzAtiWvEx"
   },
   "outputs": [
    {
     "name": "stdout",
     "output_type": "stream",
     "text": [
      "              precision    recall  f1-score   support\n",
      "\n",
      "         0.0       0.85      0.89      0.87       260\n",
      "         1.0       0.82      0.76      0.79       173\n",
      "\n",
      "    accuracy                           0.84       433\n",
      "   macro avg       0.83      0.82      0.83       433\n",
      "weighted avg       0.84      0.84      0.83       433\n",
      "\n"
     ]
    }
   ],
   "source": [
    "pred = np.argmax(predictions, axis=1)\n",
    "#Ytest_converted = np.argmax(Ytest_bin, axis=1)\n",
    "\n",
    "print(classification_report(Ytest_bin, pred_converted))"
   ]
  },
  {
   "cell_type": "code",
   "execution_count": null,
   "metadata": {},
   "outputs": [],
   "source": []
  },
  {
   "cell_type": "code",
   "execution_count": null,
   "metadata": {},
   "outputs": [],
   "source": []
  }
 ],
 "metadata": {
  "accelerator": "GPU",
  "colab": {
   "collapsed_sections": [],
   "name": "embed_lstm.ipynb",
   "private_outputs": true,
   "provenance": [],
   "toc_visible": true
  },
  "kernelspec": {
   "display_name": "Python 3",
   "language": "python",
   "name": "python3"
  },
  "language_info": {
   "codemirror_mode": {
    "name": "ipython",
    "version": 3
   },
   "file_extension": ".py",
   "mimetype": "text/x-python",
   "name": "python",
   "nbconvert_exporter": "python",
   "pygments_lexer": "ipython3",
   "version": "3.7.3"
  }
 },
 "nbformat": 4,
 "nbformat_minor": 1
}
